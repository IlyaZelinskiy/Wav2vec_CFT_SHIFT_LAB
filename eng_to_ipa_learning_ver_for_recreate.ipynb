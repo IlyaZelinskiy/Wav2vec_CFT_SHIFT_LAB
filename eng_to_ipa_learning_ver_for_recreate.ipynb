{
  "nbformat": 4,
  "nbformat_minor": 0,
  "metadata": {
    "colab": {
      "provenance": [],
      "mount_file_id": "1hciLwZvLjXX0TtANph7fTeWgjDBJJaNt",
      "authorship_tag": "ABX9TyMBB6MfgnhItzWrmmGrBaCP",
      "include_colab_link": true
    },
    "kernelspec": {
      "name": "python3",
      "display_name": "Python 3"
    },
    "language_info": {
      "name": "python"
    },
    "widgets": {
      "application/vnd.jupyter.widget-state+json": {
        "6417ee57b8df4286aa7c62c85b85bdf9": {
          "model_module": "@jupyter-widgets/controls",
          "model_name": "HBoxModel",
          "model_module_version": "1.5.0",
          "state": {
            "_dom_classes": [],
            "_model_module": "@jupyter-widgets/controls",
            "_model_module_version": "1.5.0",
            "_model_name": "HBoxModel",
            "_view_count": null,
            "_view_module": "@jupyter-widgets/controls",
            "_view_module_version": "1.5.0",
            "_view_name": "HBoxView",
            "box_style": "",
            "children": [
              "IPY_MODEL_f2ce195a09cb41a0b9653e65b1329f4b",
              "IPY_MODEL_ad07be62c055462499d510b1400585bb",
              "IPY_MODEL_d6d79629d2044944a69210dee7481878"
            ],
            "layout": "IPY_MODEL_a2c02e2e527149da8d54b4289499848a"
          }
        },
        "f2ce195a09cb41a0b9653e65b1329f4b": {
          "model_module": "@jupyter-widgets/controls",
          "model_name": "HTMLModel",
          "model_module_version": "1.5.0",
          "state": {
            "_dom_classes": [],
            "_model_module": "@jupyter-widgets/controls",
            "_model_module_version": "1.5.0",
            "_model_name": "HTMLModel",
            "_view_count": null,
            "_view_module": "@jupyter-widgets/controls",
            "_view_module_version": "1.5.0",
            "_view_name": "HTMLView",
            "description": "",
            "description_tooltip": null,
            "layout": "IPY_MODEL_8bc24845bb4d4cf99952adf086fc6e63",
            "placeholder": "​",
            "style": "IPY_MODEL_89e98812dfa44deeb206c62d701590d3",
            "value": "100%"
          }
        },
        "ad07be62c055462499d510b1400585bb": {
          "model_module": "@jupyter-widgets/controls",
          "model_name": "FloatProgressModel",
          "model_module_version": "1.5.0",
          "state": {
            "_dom_classes": [],
            "_model_module": "@jupyter-widgets/controls",
            "_model_module_version": "1.5.0",
            "_model_name": "FloatProgressModel",
            "_view_count": null,
            "_view_module": "@jupyter-widgets/controls",
            "_view_module_version": "1.5.0",
            "_view_name": "ProgressView",
            "bar_style": "success",
            "description": "",
            "description_tooltip": null,
            "layout": "IPY_MODEL_ef9d889c474247c7b11fd5ca58444712",
            "max": 5,
            "min": 0,
            "orientation": "horizontal",
            "style": "IPY_MODEL_56c0cc435173410c8b2480628fdc6026",
            "value": 5
          }
        },
        "d6d79629d2044944a69210dee7481878": {
          "model_module": "@jupyter-widgets/controls",
          "model_name": "HTMLModel",
          "model_module_version": "1.5.0",
          "state": {
            "_dom_classes": [],
            "_model_module": "@jupyter-widgets/controls",
            "_model_module_version": "1.5.0",
            "_model_name": "HTMLModel",
            "_view_count": null,
            "_view_module": "@jupyter-widgets/controls",
            "_view_module_version": "1.5.0",
            "_view_name": "HTMLView",
            "description": "",
            "description_tooltip": null,
            "layout": "IPY_MODEL_dd81d4866fc44f42a589fac1a099f514",
            "placeholder": "​",
            "style": "IPY_MODEL_902fc01a6afc492a868238143fc8c9bc",
            "value": " 5/5 [00:00&lt;00:00, 106.48ba/s]"
          }
        },
        "a2c02e2e527149da8d54b4289499848a": {
          "model_module": "@jupyter-widgets/base",
          "model_name": "LayoutModel",
          "model_module_version": "1.2.0",
          "state": {
            "_model_module": "@jupyter-widgets/base",
            "_model_module_version": "1.2.0",
            "_model_name": "LayoutModel",
            "_view_count": null,
            "_view_module": "@jupyter-widgets/base",
            "_view_module_version": "1.2.0",
            "_view_name": "LayoutView",
            "align_content": null,
            "align_items": null,
            "align_self": null,
            "border": null,
            "bottom": null,
            "display": null,
            "flex": null,
            "flex_flow": null,
            "grid_area": null,
            "grid_auto_columns": null,
            "grid_auto_flow": null,
            "grid_auto_rows": null,
            "grid_column": null,
            "grid_gap": null,
            "grid_row": null,
            "grid_template_areas": null,
            "grid_template_columns": null,
            "grid_template_rows": null,
            "height": null,
            "justify_content": null,
            "justify_items": null,
            "left": null,
            "margin": null,
            "max_height": null,
            "max_width": null,
            "min_height": null,
            "min_width": null,
            "object_fit": null,
            "object_position": null,
            "order": null,
            "overflow": null,
            "overflow_x": null,
            "overflow_y": null,
            "padding": null,
            "right": null,
            "top": null,
            "visibility": null,
            "width": null
          }
        },
        "8bc24845bb4d4cf99952adf086fc6e63": {
          "model_module": "@jupyter-widgets/base",
          "model_name": "LayoutModel",
          "model_module_version": "1.2.0",
          "state": {
            "_model_module": "@jupyter-widgets/base",
            "_model_module_version": "1.2.0",
            "_model_name": "LayoutModel",
            "_view_count": null,
            "_view_module": "@jupyter-widgets/base",
            "_view_module_version": "1.2.0",
            "_view_name": "LayoutView",
            "align_content": null,
            "align_items": null,
            "align_self": null,
            "border": null,
            "bottom": null,
            "display": null,
            "flex": null,
            "flex_flow": null,
            "grid_area": null,
            "grid_auto_columns": null,
            "grid_auto_flow": null,
            "grid_auto_rows": null,
            "grid_column": null,
            "grid_gap": null,
            "grid_row": null,
            "grid_template_areas": null,
            "grid_template_columns": null,
            "grid_template_rows": null,
            "height": null,
            "justify_content": null,
            "justify_items": null,
            "left": null,
            "margin": null,
            "max_height": null,
            "max_width": null,
            "min_height": null,
            "min_width": null,
            "object_fit": null,
            "object_position": null,
            "order": null,
            "overflow": null,
            "overflow_x": null,
            "overflow_y": null,
            "padding": null,
            "right": null,
            "top": null,
            "visibility": null,
            "width": null
          }
        },
        "89e98812dfa44deeb206c62d701590d3": {
          "model_module": "@jupyter-widgets/controls",
          "model_name": "DescriptionStyleModel",
          "model_module_version": "1.5.0",
          "state": {
            "_model_module": "@jupyter-widgets/controls",
            "_model_module_version": "1.5.0",
            "_model_name": "DescriptionStyleModel",
            "_view_count": null,
            "_view_module": "@jupyter-widgets/base",
            "_view_module_version": "1.2.0",
            "_view_name": "StyleView",
            "description_width": ""
          }
        },
        "ef9d889c474247c7b11fd5ca58444712": {
          "model_module": "@jupyter-widgets/base",
          "model_name": "LayoutModel",
          "model_module_version": "1.2.0",
          "state": {
            "_model_module": "@jupyter-widgets/base",
            "_model_module_version": "1.2.0",
            "_model_name": "LayoutModel",
            "_view_count": null,
            "_view_module": "@jupyter-widgets/base",
            "_view_module_version": "1.2.0",
            "_view_name": "LayoutView",
            "align_content": null,
            "align_items": null,
            "align_self": null,
            "border": null,
            "bottom": null,
            "display": null,
            "flex": null,
            "flex_flow": null,
            "grid_area": null,
            "grid_auto_columns": null,
            "grid_auto_flow": null,
            "grid_auto_rows": null,
            "grid_column": null,
            "grid_gap": null,
            "grid_row": null,
            "grid_template_areas": null,
            "grid_template_columns": null,
            "grid_template_rows": null,
            "height": null,
            "justify_content": null,
            "justify_items": null,
            "left": null,
            "margin": null,
            "max_height": null,
            "max_width": null,
            "min_height": null,
            "min_width": null,
            "object_fit": null,
            "object_position": null,
            "order": null,
            "overflow": null,
            "overflow_x": null,
            "overflow_y": null,
            "padding": null,
            "right": null,
            "top": null,
            "visibility": null,
            "width": null
          }
        },
        "56c0cc435173410c8b2480628fdc6026": {
          "model_module": "@jupyter-widgets/controls",
          "model_name": "ProgressStyleModel",
          "model_module_version": "1.5.0",
          "state": {
            "_model_module": "@jupyter-widgets/controls",
            "_model_module_version": "1.5.0",
            "_model_name": "ProgressStyleModel",
            "_view_count": null,
            "_view_module": "@jupyter-widgets/base",
            "_view_module_version": "1.2.0",
            "_view_name": "StyleView",
            "bar_color": null,
            "description_width": ""
          }
        },
        "dd81d4866fc44f42a589fac1a099f514": {
          "model_module": "@jupyter-widgets/base",
          "model_name": "LayoutModel",
          "model_module_version": "1.2.0",
          "state": {
            "_model_module": "@jupyter-widgets/base",
            "_model_module_version": "1.2.0",
            "_model_name": "LayoutModel",
            "_view_count": null,
            "_view_module": "@jupyter-widgets/base",
            "_view_module_version": "1.2.0",
            "_view_name": "LayoutView",
            "align_content": null,
            "align_items": null,
            "align_self": null,
            "border": null,
            "bottom": null,
            "display": null,
            "flex": null,
            "flex_flow": null,
            "grid_area": null,
            "grid_auto_columns": null,
            "grid_auto_flow": null,
            "grid_auto_rows": null,
            "grid_column": null,
            "grid_gap": null,
            "grid_row": null,
            "grid_template_areas": null,
            "grid_template_columns": null,
            "grid_template_rows": null,
            "height": null,
            "justify_content": null,
            "justify_items": null,
            "left": null,
            "margin": null,
            "max_height": null,
            "max_width": null,
            "min_height": null,
            "min_width": null,
            "object_fit": null,
            "object_position": null,
            "order": null,
            "overflow": null,
            "overflow_x": null,
            "overflow_y": null,
            "padding": null,
            "right": null,
            "top": null,
            "visibility": null,
            "width": null
          }
        },
        "902fc01a6afc492a868238143fc8c9bc": {
          "model_module": "@jupyter-widgets/controls",
          "model_name": "DescriptionStyleModel",
          "model_module_version": "1.5.0",
          "state": {
            "_model_module": "@jupyter-widgets/controls",
            "_model_module_version": "1.5.0",
            "_model_name": "DescriptionStyleModel",
            "_view_count": null,
            "_view_module": "@jupyter-widgets/base",
            "_view_module_version": "1.2.0",
            "_view_name": "StyleView",
            "description_width": ""
          }
        },
        "a8acd0e9cbc949d68759419a0e4a93f3": {
          "model_module": "@jupyter-widgets/controls",
          "model_name": "HBoxModel",
          "model_module_version": "1.5.0",
          "state": {
            "_dom_classes": [],
            "_model_module": "@jupyter-widgets/controls",
            "_model_module_version": "1.5.0",
            "_model_name": "HBoxModel",
            "_view_count": null,
            "_view_module": "@jupyter-widgets/controls",
            "_view_module_version": "1.5.0",
            "_view_name": "HBoxView",
            "box_style": "",
            "children": [
              "IPY_MODEL_981e61f65584439cbabcaa8e73cb4d18",
              "IPY_MODEL_3b21a9da3fc94ee28c9ce8e472fa13e7",
              "IPY_MODEL_6f3be784b593438e986dbed0492df0fc"
            ],
            "layout": "IPY_MODEL_d7053de58a5d437d97a69912b2e14caa"
          }
        },
        "981e61f65584439cbabcaa8e73cb4d18": {
          "model_module": "@jupyter-widgets/controls",
          "model_name": "HTMLModel",
          "model_module_version": "1.5.0",
          "state": {
            "_dom_classes": [],
            "_model_module": "@jupyter-widgets/controls",
            "_model_module_version": "1.5.0",
            "_model_name": "HTMLModel",
            "_view_count": null,
            "_view_module": "@jupyter-widgets/controls",
            "_view_module_version": "1.5.0",
            "_view_name": "HTMLView",
            "description": "",
            "description_tooltip": null,
            "layout": "IPY_MODEL_364b31e383de4ce3aabd69a4fec97964",
            "placeholder": "​",
            "style": "IPY_MODEL_e1843b3a3ba946049b25c8826be07811",
            "value": ""
          }
        },
        "3b21a9da3fc94ee28c9ce8e472fa13e7": {
          "model_module": "@jupyter-widgets/controls",
          "model_name": "FloatProgressModel",
          "model_module_version": "1.5.0",
          "state": {
            "_dom_classes": [],
            "_model_module": "@jupyter-widgets/controls",
            "_model_module_version": "1.5.0",
            "_model_name": "FloatProgressModel",
            "_view_count": null,
            "_view_module": "@jupyter-widgets/controls",
            "_view_module_version": "1.5.0",
            "_view_name": "ProgressView",
            "bar_style": "success",
            "description": "",
            "description_tooltip": null,
            "layout": "IPY_MODEL_4086371498ef4fef8d9c2ec1950608b5",
            "max": 1,
            "min": 0,
            "orientation": "horizontal",
            "style": "IPY_MODEL_cf433c9a03fd4ed896cda79cc3a1de7f",
            "value": 1
          }
        },
        "6f3be784b593438e986dbed0492df0fc": {
          "model_module": "@jupyter-widgets/controls",
          "model_name": "HTMLModel",
          "model_module_version": "1.5.0",
          "state": {
            "_dom_classes": [],
            "_model_module": "@jupyter-widgets/controls",
            "_model_module_version": "1.5.0",
            "_model_name": "HTMLModel",
            "_view_count": null,
            "_view_module": "@jupyter-widgets/controls",
            "_view_module_version": "1.5.0",
            "_view_name": "HTMLView",
            "description": "",
            "description_tooltip": null,
            "layout": "IPY_MODEL_9d175ca312d94823b0ccb2aa18ebccad",
            "placeholder": "​",
            "style": "IPY_MODEL_dff03f44b76e4c36b666277474724b06",
            "value": " 4620/? [00:00&lt;00:00, 9940.50ex/s]"
          }
        },
        "d7053de58a5d437d97a69912b2e14caa": {
          "model_module": "@jupyter-widgets/base",
          "model_name": "LayoutModel",
          "model_module_version": "1.2.0",
          "state": {
            "_model_module": "@jupyter-widgets/base",
            "_model_module_version": "1.2.0",
            "_model_name": "LayoutModel",
            "_view_count": null,
            "_view_module": "@jupyter-widgets/base",
            "_view_module_version": "1.2.0",
            "_view_name": "LayoutView",
            "align_content": null,
            "align_items": null,
            "align_self": null,
            "border": null,
            "bottom": null,
            "display": null,
            "flex": null,
            "flex_flow": null,
            "grid_area": null,
            "grid_auto_columns": null,
            "grid_auto_flow": null,
            "grid_auto_rows": null,
            "grid_column": null,
            "grid_gap": null,
            "grid_row": null,
            "grid_template_areas": null,
            "grid_template_columns": null,
            "grid_template_rows": null,
            "height": null,
            "justify_content": null,
            "justify_items": null,
            "left": null,
            "margin": null,
            "max_height": null,
            "max_width": null,
            "min_height": null,
            "min_width": null,
            "object_fit": null,
            "object_position": null,
            "order": null,
            "overflow": null,
            "overflow_x": null,
            "overflow_y": null,
            "padding": null,
            "right": null,
            "top": null,
            "visibility": null,
            "width": null
          }
        },
        "364b31e383de4ce3aabd69a4fec97964": {
          "model_module": "@jupyter-widgets/base",
          "model_name": "LayoutModel",
          "model_module_version": "1.2.0",
          "state": {
            "_model_module": "@jupyter-widgets/base",
            "_model_module_version": "1.2.0",
            "_model_name": "LayoutModel",
            "_view_count": null,
            "_view_module": "@jupyter-widgets/base",
            "_view_module_version": "1.2.0",
            "_view_name": "LayoutView",
            "align_content": null,
            "align_items": null,
            "align_self": null,
            "border": null,
            "bottom": null,
            "display": null,
            "flex": null,
            "flex_flow": null,
            "grid_area": null,
            "grid_auto_columns": null,
            "grid_auto_flow": null,
            "grid_auto_rows": null,
            "grid_column": null,
            "grid_gap": null,
            "grid_row": null,
            "grid_template_areas": null,
            "grid_template_columns": null,
            "grid_template_rows": null,
            "height": null,
            "justify_content": null,
            "justify_items": null,
            "left": null,
            "margin": null,
            "max_height": null,
            "max_width": null,
            "min_height": null,
            "min_width": null,
            "object_fit": null,
            "object_position": null,
            "order": null,
            "overflow": null,
            "overflow_x": null,
            "overflow_y": null,
            "padding": null,
            "right": null,
            "top": null,
            "visibility": null,
            "width": null
          }
        },
        "e1843b3a3ba946049b25c8826be07811": {
          "model_module": "@jupyter-widgets/controls",
          "model_name": "DescriptionStyleModel",
          "model_module_version": "1.5.0",
          "state": {
            "_model_module": "@jupyter-widgets/controls",
            "_model_module_version": "1.5.0",
            "_model_name": "DescriptionStyleModel",
            "_view_count": null,
            "_view_module": "@jupyter-widgets/base",
            "_view_module_version": "1.2.0",
            "_view_name": "StyleView",
            "description_width": ""
          }
        },
        "4086371498ef4fef8d9c2ec1950608b5": {
          "model_module": "@jupyter-widgets/base",
          "model_name": "LayoutModel",
          "model_module_version": "1.2.0",
          "state": {
            "_model_module": "@jupyter-widgets/base",
            "_model_module_version": "1.2.0",
            "_model_name": "LayoutModel",
            "_view_count": null,
            "_view_module": "@jupyter-widgets/base",
            "_view_module_version": "1.2.0",
            "_view_name": "LayoutView",
            "align_content": null,
            "align_items": null,
            "align_self": null,
            "border": null,
            "bottom": null,
            "display": null,
            "flex": null,
            "flex_flow": null,
            "grid_area": null,
            "grid_auto_columns": null,
            "grid_auto_flow": null,
            "grid_auto_rows": null,
            "grid_column": null,
            "grid_gap": null,
            "grid_row": null,
            "grid_template_areas": null,
            "grid_template_columns": null,
            "grid_template_rows": null,
            "height": null,
            "justify_content": null,
            "justify_items": null,
            "left": null,
            "margin": null,
            "max_height": null,
            "max_width": null,
            "min_height": null,
            "min_width": null,
            "object_fit": null,
            "object_position": null,
            "order": null,
            "overflow": null,
            "overflow_x": null,
            "overflow_y": null,
            "padding": null,
            "right": null,
            "top": null,
            "visibility": null,
            "width": "20px"
          }
        },
        "cf433c9a03fd4ed896cda79cc3a1de7f": {
          "model_module": "@jupyter-widgets/controls",
          "model_name": "ProgressStyleModel",
          "model_module_version": "1.5.0",
          "state": {
            "_model_module": "@jupyter-widgets/controls",
            "_model_module_version": "1.5.0",
            "_model_name": "ProgressStyleModel",
            "_view_count": null,
            "_view_module": "@jupyter-widgets/base",
            "_view_module_version": "1.2.0",
            "_view_name": "StyleView",
            "bar_color": null,
            "description_width": ""
          }
        },
        "9d175ca312d94823b0ccb2aa18ebccad": {
          "model_module": "@jupyter-widgets/base",
          "model_name": "LayoutModel",
          "model_module_version": "1.2.0",
          "state": {
            "_model_module": "@jupyter-widgets/base",
            "_model_module_version": "1.2.0",
            "_model_name": "LayoutModel",
            "_view_count": null,
            "_view_module": "@jupyter-widgets/base",
            "_view_module_version": "1.2.0",
            "_view_name": "LayoutView",
            "align_content": null,
            "align_items": null,
            "align_self": null,
            "border": null,
            "bottom": null,
            "display": null,
            "flex": null,
            "flex_flow": null,
            "grid_area": null,
            "grid_auto_columns": null,
            "grid_auto_flow": null,
            "grid_auto_rows": null,
            "grid_column": null,
            "grid_gap": null,
            "grid_row": null,
            "grid_template_areas": null,
            "grid_template_columns": null,
            "grid_template_rows": null,
            "height": null,
            "justify_content": null,
            "justify_items": null,
            "left": null,
            "margin": null,
            "max_height": null,
            "max_width": null,
            "min_height": null,
            "min_width": null,
            "object_fit": null,
            "object_position": null,
            "order": null,
            "overflow": null,
            "overflow_x": null,
            "overflow_y": null,
            "padding": null,
            "right": null,
            "top": null,
            "visibility": null,
            "width": null
          }
        },
        "dff03f44b76e4c36b666277474724b06": {
          "model_module": "@jupyter-widgets/controls",
          "model_name": "DescriptionStyleModel",
          "model_module_version": "1.5.0",
          "state": {
            "_model_module": "@jupyter-widgets/controls",
            "_model_module_version": "1.5.0",
            "_model_name": "DescriptionStyleModel",
            "_view_count": null,
            "_view_module": "@jupyter-widgets/base",
            "_view_module_version": "1.2.0",
            "_view_name": "StyleView",
            "description_width": ""
          }
        },
        "89d6d0b2a0614ff8ac704748df510857": {
          "model_module": "@jupyter-widgets/controls",
          "model_name": "HBoxModel",
          "model_module_version": "1.5.0",
          "state": {
            "_dom_classes": [],
            "_model_module": "@jupyter-widgets/controls",
            "_model_module_version": "1.5.0",
            "_model_name": "HBoxModel",
            "_view_count": null,
            "_view_module": "@jupyter-widgets/controls",
            "_view_module_version": "1.5.0",
            "_view_name": "HBoxView",
            "box_style": "",
            "children": [
              "IPY_MODEL_09006268d2ff4dcf865555b03c787226",
              "IPY_MODEL_30c9219a8e8847a08ee5e492eab61fd6",
              "IPY_MODEL_2d4c1421036644999a2a4aeb5523ff06"
            ],
            "layout": "IPY_MODEL_e278fb8d39d941b58f1a921467c7b7e7"
          }
        },
        "09006268d2ff4dcf865555b03c787226": {
          "model_module": "@jupyter-widgets/controls",
          "model_name": "HTMLModel",
          "model_module_version": "1.5.0",
          "state": {
            "_dom_classes": [],
            "_model_module": "@jupyter-widgets/controls",
            "_model_module_version": "1.5.0",
            "_model_name": "HTMLModel",
            "_view_count": null,
            "_view_module": "@jupyter-widgets/controls",
            "_view_module_version": "1.5.0",
            "_view_name": "HTMLView",
            "description": "",
            "description_tooltip": null,
            "layout": "IPY_MODEL_8177b56fef07454ab3a37c474b773908",
            "placeholder": "​",
            "style": "IPY_MODEL_c8007bb5ef314eedad552b9d19b0cd1f",
            "value": ""
          }
        },
        "30c9219a8e8847a08ee5e492eab61fd6": {
          "model_module": "@jupyter-widgets/controls",
          "model_name": "FloatProgressModel",
          "model_module_version": "1.5.0",
          "state": {
            "_dom_classes": [],
            "_model_module": "@jupyter-widgets/controls",
            "_model_module_version": "1.5.0",
            "_model_name": "FloatProgressModel",
            "_view_count": null,
            "_view_module": "@jupyter-widgets/controls",
            "_view_module_version": "1.5.0",
            "_view_name": "ProgressView",
            "bar_style": "success",
            "description": "",
            "description_tooltip": null,
            "layout": "IPY_MODEL_5f2bc2d0e7414324a27adc5ec2c74959",
            "max": 1,
            "min": 0,
            "orientation": "horizontal",
            "style": "IPY_MODEL_da328da266a3447388d3ba4d961fc396",
            "value": 1
          }
        },
        "2d4c1421036644999a2a4aeb5523ff06": {
          "model_module": "@jupyter-widgets/controls",
          "model_name": "HTMLModel",
          "model_module_version": "1.5.0",
          "state": {
            "_dom_classes": [],
            "_model_module": "@jupyter-widgets/controls",
            "_model_module_version": "1.5.0",
            "_model_name": "HTMLModel",
            "_view_count": null,
            "_view_module": "@jupyter-widgets/controls",
            "_view_module_version": "1.5.0",
            "_view_name": "HTMLView",
            "description": "",
            "description_tooltip": null,
            "layout": "IPY_MODEL_0baa41fa896e4329bcf794c70e58ebd1",
            "placeholder": "​",
            "style": "IPY_MODEL_b6dd231a68dd45f29734c69ccb4508d6",
            "value": " 1680/? [00:00&lt;00:00, 5875.44ex/s]"
          }
        },
        "e278fb8d39d941b58f1a921467c7b7e7": {
          "model_module": "@jupyter-widgets/base",
          "model_name": "LayoutModel",
          "model_module_version": "1.2.0",
          "state": {
            "_model_module": "@jupyter-widgets/base",
            "_model_module_version": "1.2.0",
            "_model_name": "LayoutModel",
            "_view_count": null,
            "_view_module": "@jupyter-widgets/base",
            "_view_module_version": "1.2.0",
            "_view_name": "LayoutView",
            "align_content": null,
            "align_items": null,
            "align_self": null,
            "border": null,
            "bottom": null,
            "display": null,
            "flex": null,
            "flex_flow": null,
            "grid_area": null,
            "grid_auto_columns": null,
            "grid_auto_flow": null,
            "grid_auto_rows": null,
            "grid_column": null,
            "grid_gap": null,
            "grid_row": null,
            "grid_template_areas": null,
            "grid_template_columns": null,
            "grid_template_rows": null,
            "height": null,
            "justify_content": null,
            "justify_items": null,
            "left": null,
            "margin": null,
            "max_height": null,
            "max_width": null,
            "min_height": null,
            "min_width": null,
            "object_fit": null,
            "object_position": null,
            "order": null,
            "overflow": null,
            "overflow_x": null,
            "overflow_y": null,
            "padding": null,
            "right": null,
            "top": null,
            "visibility": null,
            "width": null
          }
        },
        "8177b56fef07454ab3a37c474b773908": {
          "model_module": "@jupyter-widgets/base",
          "model_name": "LayoutModel",
          "model_module_version": "1.2.0",
          "state": {
            "_model_module": "@jupyter-widgets/base",
            "_model_module_version": "1.2.0",
            "_model_name": "LayoutModel",
            "_view_count": null,
            "_view_module": "@jupyter-widgets/base",
            "_view_module_version": "1.2.0",
            "_view_name": "LayoutView",
            "align_content": null,
            "align_items": null,
            "align_self": null,
            "border": null,
            "bottom": null,
            "display": null,
            "flex": null,
            "flex_flow": null,
            "grid_area": null,
            "grid_auto_columns": null,
            "grid_auto_flow": null,
            "grid_auto_rows": null,
            "grid_column": null,
            "grid_gap": null,
            "grid_row": null,
            "grid_template_areas": null,
            "grid_template_columns": null,
            "grid_template_rows": null,
            "height": null,
            "justify_content": null,
            "justify_items": null,
            "left": null,
            "margin": null,
            "max_height": null,
            "max_width": null,
            "min_height": null,
            "min_width": null,
            "object_fit": null,
            "object_position": null,
            "order": null,
            "overflow": null,
            "overflow_x": null,
            "overflow_y": null,
            "padding": null,
            "right": null,
            "top": null,
            "visibility": null,
            "width": null
          }
        },
        "c8007bb5ef314eedad552b9d19b0cd1f": {
          "model_module": "@jupyter-widgets/controls",
          "model_name": "DescriptionStyleModel",
          "model_module_version": "1.5.0",
          "state": {
            "_model_module": "@jupyter-widgets/controls",
            "_model_module_version": "1.5.0",
            "_model_name": "DescriptionStyleModel",
            "_view_count": null,
            "_view_module": "@jupyter-widgets/base",
            "_view_module_version": "1.2.0",
            "_view_name": "StyleView",
            "description_width": ""
          }
        },
        "5f2bc2d0e7414324a27adc5ec2c74959": {
          "model_module": "@jupyter-widgets/base",
          "model_name": "LayoutModel",
          "model_module_version": "1.2.0",
          "state": {
            "_model_module": "@jupyter-widgets/base",
            "_model_module_version": "1.2.0",
            "_model_name": "LayoutModel",
            "_view_count": null,
            "_view_module": "@jupyter-widgets/base",
            "_view_module_version": "1.2.0",
            "_view_name": "LayoutView",
            "align_content": null,
            "align_items": null,
            "align_self": null,
            "border": null,
            "bottom": null,
            "display": null,
            "flex": null,
            "flex_flow": null,
            "grid_area": null,
            "grid_auto_columns": null,
            "grid_auto_flow": null,
            "grid_auto_rows": null,
            "grid_column": null,
            "grid_gap": null,
            "grid_row": null,
            "grid_template_areas": null,
            "grid_template_columns": null,
            "grid_template_rows": null,
            "height": null,
            "justify_content": null,
            "justify_items": null,
            "left": null,
            "margin": null,
            "max_height": null,
            "max_width": null,
            "min_height": null,
            "min_width": null,
            "object_fit": null,
            "object_position": null,
            "order": null,
            "overflow": null,
            "overflow_x": null,
            "overflow_y": null,
            "padding": null,
            "right": null,
            "top": null,
            "visibility": null,
            "width": "20px"
          }
        },
        "da328da266a3447388d3ba4d961fc396": {
          "model_module": "@jupyter-widgets/controls",
          "model_name": "ProgressStyleModel",
          "model_module_version": "1.5.0",
          "state": {
            "_model_module": "@jupyter-widgets/controls",
            "_model_module_version": "1.5.0",
            "_model_name": "ProgressStyleModel",
            "_view_count": null,
            "_view_module": "@jupyter-widgets/base",
            "_view_module_version": "1.2.0",
            "_view_name": "StyleView",
            "bar_color": null,
            "description_width": ""
          }
        },
        "0baa41fa896e4329bcf794c70e58ebd1": {
          "model_module": "@jupyter-widgets/base",
          "model_name": "LayoutModel",
          "model_module_version": "1.2.0",
          "state": {
            "_model_module": "@jupyter-widgets/base",
            "_model_module_version": "1.2.0",
            "_model_name": "LayoutModel",
            "_view_count": null,
            "_view_module": "@jupyter-widgets/base",
            "_view_module_version": "1.2.0",
            "_view_name": "LayoutView",
            "align_content": null,
            "align_items": null,
            "align_self": null,
            "border": null,
            "bottom": null,
            "display": null,
            "flex": null,
            "flex_flow": null,
            "grid_area": null,
            "grid_auto_columns": null,
            "grid_auto_flow": null,
            "grid_auto_rows": null,
            "grid_column": null,
            "grid_gap": null,
            "grid_row": null,
            "grid_template_areas": null,
            "grid_template_columns": null,
            "grid_template_rows": null,
            "height": null,
            "justify_content": null,
            "justify_items": null,
            "left": null,
            "margin": null,
            "max_height": null,
            "max_width": null,
            "min_height": null,
            "min_width": null,
            "object_fit": null,
            "object_position": null,
            "order": null,
            "overflow": null,
            "overflow_x": null,
            "overflow_y": null,
            "padding": null,
            "right": null,
            "top": null,
            "visibility": null,
            "width": null
          }
        },
        "b6dd231a68dd45f29734c69ccb4508d6": {
          "model_module": "@jupyter-widgets/controls",
          "model_name": "DescriptionStyleModel",
          "model_module_version": "1.5.0",
          "state": {
            "_model_module": "@jupyter-widgets/controls",
            "_model_module_version": "1.5.0",
            "_model_name": "DescriptionStyleModel",
            "_view_count": null,
            "_view_module": "@jupyter-widgets/base",
            "_view_module_version": "1.2.0",
            "_view_name": "StyleView",
            "description_width": ""
          }
        },
        "b9098cffc45142b19fda261fdc50cc33": {
          "model_module": "@jupyter-widgets/controls",
          "model_name": "HBoxModel",
          "model_module_version": "1.5.0",
          "state": {
            "_dom_classes": [],
            "_model_module": "@jupyter-widgets/controls",
            "_model_module_version": "1.5.0",
            "_model_name": "HBoxModel",
            "_view_count": null,
            "_view_module": "@jupyter-widgets/controls",
            "_view_module_version": "1.5.0",
            "_view_name": "HBoxView",
            "box_style": "",
            "children": [
              "IPY_MODEL_5c97a3fd8f3c4cb994bd461cb06ef997",
              "IPY_MODEL_cd7b843e019c4a529cc03dd5d02e4e58",
              "IPY_MODEL_b51f3b7edeca4fe6bd60d757004fe24c"
            ],
            "layout": "IPY_MODEL_55e83e0894094470baf7c7dccb5254fb"
          }
        },
        "5c97a3fd8f3c4cb994bd461cb06ef997": {
          "model_module": "@jupyter-widgets/controls",
          "model_name": "HTMLModel",
          "model_module_version": "1.5.0",
          "state": {
            "_dom_classes": [],
            "_model_module": "@jupyter-widgets/controls",
            "_model_module_version": "1.5.0",
            "_model_name": "HTMLModel",
            "_view_count": null,
            "_view_module": "@jupyter-widgets/controls",
            "_view_module_version": "1.5.0",
            "_view_name": "HTMLView",
            "description": "",
            "description_tooltip": null,
            "layout": "IPY_MODEL_78ce0b80e5d4446b882c65c2ad443b47",
            "placeholder": "​",
            "style": "IPY_MODEL_6efa4fa0d39f4a0e8a163b8969773b46",
            "value": "100%"
          }
        },
        "cd7b843e019c4a529cc03dd5d02e4e58": {
          "model_module": "@jupyter-widgets/controls",
          "model_name": "FloatProgressModel",
          "model_module_version": "1.5.0",
          "state": {
            "_dom_classes": [],
            "_model_module": "@jupyter-widgets/controls",
            "_model_module_version": "1.5.0",
            "_model_name": "FloatProgressModel",
            "_view_count": null,
            "_view_module": "@jupyter-widgets/controls",
            "_view_module_version": "1.5.0",
            "_view_name": "ProgressView",
            "bar_style": "success",
            "description": "",
            "description_tooltip": null,
            "layout": "IPY_MODEL_779c59a2616b4a1ea96a4097d6e96e83",
            "max": 1,
            "min": 0,
            "orientation": "horizontal",
            "style": "IPY_MODEL_c83ee9b9dc134dd4b1d5c0809883784d",
            "value": 1
          }
        },
        "b51f3b7edeca4fe6bd60d757004fe24c": {
          "model_module": "@jupyter-widgets/controls",
          "model_name": "HTMLModel",
          "model_module_version": "1.5.0",
          "state": {
            "_dom_classes": [],
            "_model_module": "@jupyter-widgets/controls",
            "_model_module_version": "1.5.0",
            "_model_name": "HTMLModel",
            "_view_count": null,
            "_view_module": "@jupyter-widgets/controls",
            "_view_module_version": "1.5.0",
            "_view_name": "HTMLView",
            "description": "",
            "description_tooltip": null,
            "layout": "IPY_MODEL_bca85cb9aa58448daa1115cdf01c6ab5",
            "placeholder": "​",
            "style": "IPY_MODEL_dd1c155183af40dd910a4f2808355a89",
            "value": " 1/1 [00:00&lt;00:00,  1.10ba/s]"
          }
        },
        "55e83e0894094470baf7c7dccb5254fb": {
          "model_module": "@jupyter-widgets/base",
          "model_name": "LayoutModel",
          "model_module_version": "1.2.0",
          "state": {
            "_model_module": "@jupyter-widgets/base",
            "_model_module_version": "1.2.0",
            "_model_name": "LayoutModel",
            "_view_count": null,
            "_view_module": "@jupyter-widgets/base",
            "_view_module_version": "1.2.0",
            "_view_name": "LayoutView",
            "align_content": null,
            "align_items": null,
            "align_self": null,
            "border": null,
            "bottom": null,
            "display": null,
            "flex": null,
            "flex_flow": null,
            "grid_area": null,
            "grid_auto_columns": null,
            "grid_auto_flow": null,
            "grid_auto_rows": null,
            "grid_column": null,
            "grid_gap": null,
            "grid_row": null,
            "grid_template_areas": null,
            "grid_template_columns": null,
            "grid_template_rows": null,
            "height": null,
            "justify_content": null,
            "justify_items": null,
            "left": null,
            "margin": null,
            "max_height": null,
            "max_width": null,
            "min_height": null,
            "min_width": null,
            "object_fit": null,
            "object_position": null,
            "order": null,
            "overflow": null,
            "overflow_x": null,
            "overflow_y": null,
            "padding": null,
            "right": null,
            "top": null,
            "visibility": null,
            "width": null
          }
        },
        "78ce0b80e5d4446b882c65c2ad443b47": {
          "model_module": "@jupyter-widgets/base",
          "model_name": "LayoutModel",
          "model_module_version": "1.2.0",
          "state": {
            "_model_module": "@jupyter-widgets/base",
            "_model_module_version": "1.2.0",
            "_model_name": "LayoutModel",
            "_view_count": null,
            "_view_module": "@jupyter-widgets/base",
            "_view_module_version": "1.2.0",
            "_view_name": "LayoutView",
            "align_content": null,
            "align_items": null,
            "align_self": null,
            "border": null,
            "bottom": null,
            "display": null,
            "flex": null,
            "flex_flow": null,
            "grid_area": null,
            "grid_auto_columns": null,
            "grid_auto_flow": null,
            "grid_auto_rows": null,
            "grid_column": null,
            "grid_gap": null,
            "grid_row": null,
            "grid_template_areas": null,
            "grid_template_columns": null,
            "grid_template_rows": null,
            "height": null,
            "justify_content": null,
            "justify_items": null,
            "left": null,
            "margin": null,
            "max_height": null,
            "max_width": null,
            "min_height": null,
            "min_width": null,
            "object_fit": null,
            "object_position": null,
            "order": null,
            "overflow": null,
            "overflow_x": null,
            "overflow_y": null,
            "padding": null,
            "right": null,
            "top": null,
            "visibility": null,
            "width": null
          }
        },
        "6efa4fa0d39f4a0e8a163b8969773b46": {
          "model_module": "@jupyter-widgets/controls",
          "model_name": "DescriptionStyleModel",
          "model_module_version": "1.5.0",
          "state": {
            "_model_module": "@jupyter-widgets/controls",
            "_model_module_version": "1.5.0",
            "_model_name": "DescriptionStyleModel",
            "_view_count": null,
            "_view_module": "@jupyter-widgets/base",
            "_view_module_version": "1.2.0",
            "_view_name": "StyleView",
            "description_width": ""
          }
        },
        "779c59a2616b4a1ea96a4097d6e96e83": {
          "model_module": "@jupyter-widgets/base",
          "model_name": "LayoutModel",
          "model_module_version": "1.2.0",
          "state": {
            "_model_module": "@jupyter-widgets/base",
            "_model_module_version": "1.2.0",
            "_model_name": "LayoutModel",
            "_view_count": null,
            "_view_module": "@jupyter-widgets/base",
            "_view_module_version": "1.2.0",
            "_view_name": "LayoutView",
            "align_content": null,
            "align_items": null,
            "align_self": null,
            "border": null,
            "bottom": null,
            "display": null,
            "flex": null,
            "flex_flow": null,
            "grid_area": null,
            "grid_auto_columns": null,
            "grid_auto_flow": null,
            "grid_auto_rows": null,
            "grid_column": null,
            "grid_gap": null,
            "grid_row": null,
            "grid_template_areas": null,
            "grid_template_columns": null,
            "grid_template_rows": null,
            "height": null,
            "justify_content": null,
            "justify_items": null,
            "left": null,
            "margin": null,
            "max_height": null,
            "max_width": null,
            "min_height": null,
            "min_width": null,
            "object_fit": null,
            "object_position": null,
            "order": null,
            "overflow": null,
            "overflow_x": null,
            "overflow_y": null,
            "padding": null,
            "right": null,
            "top": null,
            "visibility": null,
            "width": null
          }
        },
        "c83ee9b9dc134dd4b1d5c0809883784d": {
          "model_module": "@jupyter-widgets/controls",
          "model_name": "ProgressStyleModel",
          "model_module_version": "1.5.0",
          "state": {
            "_model_module": "@jupyter-widgets/controls",
            "_model_module_version": "1.5.0",
            "_model_name": "ProgressStyleModel",
            "_view_count": null,
            "_view_module": "@jupyter-widgets/base",
            "_view_module_version": "1.2.0",
            "_view_name": "StyleView",
            "bar_color": null,
            "description_width": ""
          }
        },
        "bca85cb9aa58448daa1115cdf01c6ab5": {
          "model_module": "@jupyter-widgets/base",
          "model_name": "LayoutModel",
          "model_module_version": "1.2.0",
          "state": {
            "_model_module": "@jupyter-widgets/base",
            "_model_module_version": "1.2.0",
            "_model_name": "LayoutModel",
            "_view_count": null,
            "_view_module": "@jupyter-widgets/base",
            "_view_module_version": "1.2.0",
            "_view_name": "LayoutView",
            "align_content": null,
            "align_items": null,
            "align_self": null,
            "border": null,
            "bottom": null,
            "display": null,
            "flex": null,
            "flex_flow": null,
            "grid_area": null,
            "grid_auto_columns": null,
            "grid_auto_flow": null,
            "grid_auto_rows": null,
            "grid_column": null,
            "grid_gap": null,
            "grid_row": null,
            "grid_template_areas": null,
            "grid_template_columns": null,
            "grid_template_rows": null,
            "height": null,
            "justify_content": null,
            "justify_items": null,
            "left": null,
            "margin": null,
            "max_height": null,
            "max_width": null,
            "min_height": null,
            "min_width": null,
            "object_fit": null,
            "object_position": null,
            "order": null,
            "overflow": null,
            "overflow_x": null,
            "overflow_y": null,
            "padding": null,
            "right": null,
            "top": null,
            "visibility": null,
            "width": null
          }
        },
        "dd1c155183af40dd910a4f2808355a89": {
          "model_module": "@jupyter-widgets/controls",
          "model_name": "DescriptionStyleModel",
          "model_module_version": "1.5.0",
          "state": {
            "_model_module": "@jupyter-widgets/controls",
            "_model_module_version": "1.5.0",
            "_model_name": "DescriptionStyleModel",
            "_view_count": null,
            "_view_module": "@jupyter-widgets/base",
            "_view_module_version": "1.2.0",
            "_view_name": "StyleView",
            "description_width": ""
          }
        },
        "1ada5b9057fd4cabab97f55601808af7": {
          "model_module": "@jupyter-widgets/controls",
          "model_name": "HBoxModel",
          "model_module_version": "1.5.0",
          "state": {
            "_dom_classes": [],
            "_model_module": "@jupyter-widgets/controls",
            "_model_module_version": "1.5.0",
            "_model_name": "HBoxModel",
            "_view_count": null,
            "_view_module": "@jupyter-widgets/controls",
            "_view_module_version": "1.5.0",
            "_view_name": "HBoxView",
            "box_style": "",
            "children": [
              "IPY_MODEL_9dbb970d762e4a0588e3779fc30a669a",
              "IPY_MODEL_4e91d7dd49174aab8dc795e3444340d5",
              "IPY_MODEL_f31b3cffa59448e5adbccfae63da451e"
            ],
            "layout": "IPY_MODEL_48edbab4f5ec491797612ed49e0c9e2c"
          }
        },
        "9dbb970d762e4a0588e3779fc30a669a": {
          "model_module": "@jupyter-widgets/controls",
          "model_name": "HTMLModel",
          "model_module_version": "1.5.0",
          "state": {
            "_dom_classes": [],
            "_model_module": "@jupyter-widgets/controls",
            "_model_module_version": "1.5.0",
            "_model_name": "HTMLModel",
            "_view_count": null,
            "_view_module": "@jupyter-widgets/controls",
            "_view_module_version": "1.5.0",
            "_view_name": "HTMLView",
            "description": "",
            "description_tooltip": null,
            "layout": "IPY_MODEL_a19a8cffdc124136a9d566e6aa7e3f8a",
            "placeholder": "​",
            "style": "IPY_MODEL_d7eed3d7e0de42399e50f2bb5ceb61ad",
            "value": "100%"
          }
        },
        "4e91d7dd49174aab8dc795e3444340d5": {
          "model_module": "@jupyter-widgets/controls",
          "model_name": "FloatProgressModel",
          "model_module_version": "1.5.0",
          "state": {
            "_dom_classes": [],
            "_model_module": "@jupyter-widgets/controls",
            "_model_module_version": "1.5.0",
            "_model_name": "FloatProgressModel",
            "_view_count": null,
            "_view_module": "@jupyter-widgets/controls",
            "_view_module_version": "1.5.0",
            "_view_name": "ProgressView",
            "bar_style": "success",
            "description": "",
            "description_tooltip": null,
            "layout": "IPY_MODEL_a4ef9a23e9d1463a883d485c4aed8095",
            "max": 1,
            "min": 0,
            "orientation": "horizontal",
            "style": "IPY_MODEL_0bd2fb7403bf4c00a72155d08365bfbe",
            "value": 1
          }
        },
        "f31b3cffa59448e5adbccfae63da451e": {
          "model_module": "@jupyter-widgets/controls",
          "model_name": "HTMLModel",
          "model_module_version": "1.5.0",
          "state": {
            "_dom_classes": [],
            "_model_module": "@jupyter-widgets/controls",
            "_model_module_version": "1.5.0",
            "_model_name": "HTMLModel",
            "_view_count": null,
            "_view_module": "@jupyter-widgets/controls",
            "_view_module_version": "1.5.0",
            "_view_name": "HTMLView",
            "description": "",
            "description_tooltip": null,
            "layout": "IPY_MODEL_19257615f305469e99b0102a310423f0",
            "placeholder": "​",
            "style": "IPY_MODEL_fb94188d3b774ffbadb149830dc70ce1",
            "value": " 1/1 [00:00&lt;00:00,  2.59ba/s]"
          }
        },
        "48edbab4f5ec491797612ed49e0c9e2c": {
          "model_module": "@jupyter-widgets/base",
          "model_name": "LayoutModel",
          "model_module_version": "1.2.0",
          "state": {
            "_model_module": "@jupyter-widgets/base",
            "_model_module_version": "1.2.0",
            "_model_name": "LayoutModel",
            "_view_count": null,
            "_view_module": "@jupyter-widgets/base",
            "_view_module_version": "1.2.0",
            "_view_name": "LayoutView",
            "align_content": null,
            "align_items": null,
            "align_self": null,
            "border": null,
            "bottom": null,
            "display": null,
            "flex": null,
            "flex_flow": null,
            "grid_area": null,
            "grid_auto_columns": null,
            "grid_auto_flow": null,
            "grid_auto_rows": null,
            "grid_column": null,
            "grid_gap": null,
            "grid_row": null,
            "grid_template_areas": null,
            "grid_template_columns": null,
            "grid_template_rows": null,
            "height": null,
            "justify_content": null,
            "justify_items": null,
            "left": null,
            "margin": null,
            "max_height": null,
            "max_width": null,
            "min_height": null,
            "min_width": null,
            "object_fit": null,
            "object_position": null,
            "order": null,
            "overflow": null,
            "overflow_x": null,
            "overflow_y": null,
            "padding": null,
            "right": null,
            "top": null,
            "visibility": null,
            "width": null
          }
        },
        "a19a8cffdc124136a9d566e6aa7e3f8a": {
          "model_module": "@jupyter-widgets/base",
          "model_name": "LayoutModel",
          "model_module_version": "1.2.0",
          "state": {
            "_model_module": "@jupyter-widgets/base",
            "_model_module_version": "1.2.0",
            "_model_name": "LayoutModel",
            "_view_count": null,
            "_view_module": "@jupyter-widgets/base",
            "_view_module_version": "1.2.0",
            "_view_name": "LayoutView",
            "align_content": null,
            "align_items": null,
            "align_self": null,
            "border": null,
            "bottom": null,
            "display": null,
            "flex": null,
            "flex_flow": null,
            "grid_area": null,
            "grid_auto_columns": null,
            "grid_auto_flow": null,
            "grid_auto_rows": null,
            "grid_column": null,
            "grid_gap": null,
            "grid_row": null,
            "grid_template_areas": null,
            "grid_template_columns": null,
            "grid_template_rows": null,
            "height": null,
            "justify_content": null,
            "justify_items": null,
            "left": null,
            "margin": null,
            "max_height": null,
            "max_width": null,
            "min_height": null,
            "min_width": null,
            "object_fit": null,
            "object_position": null,
            "order": null,
            "overflow": null,
            "overflow_x": null,
            "overflow_y": null,
            "padding": null,
            "right": null,
            "top": null,
            "visibility": null,
            "width": null
          }
        },
        "d7eed3d7e0de42399e50f2bb5ceb61ad": {
          "model_module": "@jupyter-widgets/controls",
          "model_name": "DescriptionStyleModel",
          "model_module_version": "1.5.0",
          "state": {
            "_model_module": "@jupyter-widgets/controls",
            "_model_module_version": "1.5.0",
            "_model_name": "DescriptionStyleModel",
            "_view_count": null,
            "_view_module": "@jupyter-widgets/base",
            "_view_module_version": "1.2.0",
            "_view_name": "StyleView",
            "description_width": ""
          }
        },
        "a4ef9a23e9d1463a883d485c4aed8095": {
          "model_module": "@jupyter-widgets/base",
          "model_name": "LayoutModel",
          "model_module_version": "1.2.0",
          "state": {
            "_model_module": "@jupyter-widgets/base",
            "_model_module_version": "1.2.0",
            "_model_name": "LayoutModel",
            "_view_count": null,
            "_view_module": "@jupyter-widgets/base",
            "_view_module_version": "1.2.0",
            "_view_name": "LayoutView",
            "align_content": null,
            "align_items": null,
            "align_self": null,
            "border": null,
            "bottom": null,
            "display": null,
            "flex": null,
            "flex_flow": null,
            "grid_area": null,
            "grid_auto_columns": null,
            "grid_auto_flow": null,
            "grid_auto_rows": null,
            "grid_column": null,
            "grid_gap": null,
            "grid_row": null,
            "grid_template_areas": null,
            "grid_template_columns": null,
            "grid_template_rows": null,
            "height": null,
            "justify_content": null,
            "justify_items": null,
            "left": null,
            "margin": null,
            "max_height": null,
            "max_width": null,
            "min_height": null,
            "min_width": null,
            "object_fit": null,
            "object_position": null,
            "order": null,
            "overflow": null,
            "overflow_x": null,
            "overflow_y": null,
            "padding": null,
            "right": null,
            "top": null,
            "visibility": null,
            "width": null
          }
        },
        "0bd2fb7403bf4c00a72155d08365bfbe": {
          "model_module": "@jupyter-widgets/controls",
          "model_name": "ProgressStyleModel",
          "model_module_version": "1.5.0",
          "state": {
            "_model_module": "@jupyter-widgets/controls",
            "_model_module_version": "1.5.0",
            "_model_name": "ProgressStyleModel",
            "_view_count": null,
            "_view_module": "@jupyter-widgets/base",
            "_view_module_version": "1.2.0",
            "_view_name": "StyleView",
            "bar_color": null,
            "description_width": ""
          }
        },
        "19257615f305469e99b0102a310423f0": {
          "model_module": "@jupyter-widgets/base",
          "model_name": "LayoutModel",
          "model_module_version": "1.2.0",
          "state": {
            "_model_module": "@jupyter-widgets/base",
            "_model_module_version": "1.2.0",
            "_model_name": "LayoutModel",
            "_view_count": null,
            "_view_module": "@jupyter-widgets/base",
            "_view_module_version": "1.2.0",
            "_view_name": "LayoutView",
            "align_content": null,
            "align_items": null,
            "align_self": null,
            "border": null,
            "bottom": null,
            "display": null,
            "flex": null,
            "flex_flow": null,
            "grid_area": null,
            "grid_auto_columns": null,
            "grid_auto_flow": null,
            "grid_auto_rows": null,
            "grid_column": null,
            "grid_gap": null,
            "grid_row": null,
            "grid_template_areas": null,
            "grid_template_columns": null,
            "grid_template_rows": null,
            "height": null,
            "justify_content": null,
            "justify_items": null,
            "left": null,
            "margin": null,
            "max_height": null,
            "max_width": null,
            "min_height": null,
            "min_width": null,
            "object_fit": null,
            "object_position": null,
            "order": null,
            "overflow": null,
            "overflow_x": null,
            "overflow_y": null,
            "padding": null,
            "right": null,
            "top": null,
            "visibility": null,
            "width": null
          }
        },
        "fb94188d3b774ffbadb149830dc70ce1": {
          "model_module": "@jupyter-widgets/controls",
          "model_name": "DescriptionStyleModel",
          "model_module_version": "1.5.0",
          "state": {
            "_model_module": "@jupyter-widgets/controls",
            "_model_module_version": "1.5.0",
            "_model_name": "DescriptionStyleModel",
            "_view_count": null,
            "_view_module": "@jupyter-widgets/base",
            "_view_module_version": "1.2.0",
            "_view_name": "StyleView",
            "description_width": ""
          }
        },
        "98601f8e6b084ee5b30de5c2d34ab4f5": {
          "model_module": "@jupyter-widgets/controls",
          "model_name": "HBoxModel",
          "model_module_version": "1.5.0",
          "state": {
            "_dom_classes": [],
            "_model_module": "@jupyter-widgets/controls",
            "_model_module_version": "1.5.0",
            "_model_name": "HBoxModel",
            "_view_count": null,
            "_view_module": "@jupyter-widgets/controls",
            "_view_module_version": "1.5.0",
            "_view_name": "HBoxView",
            "box_style": "",
            "children": [
              "IPY_MODEL_4206f24de4ae4aaa96b4bb33b7d94fc0",
              "IPY_MODEL_92c0993733c948068e74fdc5a5bd4759",
              "IPY_MODEL_55f658cd42b24f04944b102e9309d15f"
            ],
            "layout": "IPY_MODEL_df7e61c8eaa249469396d7427722d8e7"
          }
        },
        "4206f24de4ae4aaa96b4bb33b7d94fc0": {
          "model_module": "@jupyter-widgets/controls",
          "model_name": "HTMLModel",
          "model_module_version": "1.5.0",
          "state": {
            "_dom_classes": [],
            "_model_module": "@jupyter-widgets/controls",
            "_model_module_version": "1.5.0",
            "_model_name": "HTMLModel",
            "_view_count": null,
            "_view_module": "@jupyter-widgets/controls",
            "_view_module_version": "1.5.0",
            "_view_name": "HTMLView",
            "description": "",
            "description_tooltip": null,
            "layout": "IPY_MODEL_a1fc8c04b4ad43a29022661bf355b580",
            "placeholder": "​",
            "style": "IPY_MODEL_7035b8c0619d40899774275672927875",
            "value": "Downloading: "
          }
        },
        "92c0993733c948068e74fdc5a5bd4759": {
          "model_module": "@jupyter-widgets/controls",
          "model_name": "FloatProgressModel",
          "model_module_version": "1.5.0",
          "state": {
            "_dom_classes": [],
            "_model_module": "@jupyter-widgets/controls",
            "_model_module_version": "1.5.0",
            "_model_name": "FloatProgressModel",
            "_view_count": null,
            "_view_module": "@jupyter-widgets/controls",
            "_view_module_version": "1.5.0",
            "_view_name": "ProgressView",
            "bar_style": "success",
            "description": "",
            "description_tooltip": null,
            "layout": "IPY_MODEL_bee6348ea7614414a6f027f89d25132e",
            "max": 1901,
            "min": 0,
            "orientation": "horizontal",
            "style": "IPY_MODEL_2f6011810478472c9f5f55159ced6d40",
            "value": 1901
          }
        },
        "55f658cd42b24f04944b102e9309d15f": {
          "model_module": "@jupyter-widgets/controls",
          "model_name": "HTMLModel",
          "model_module_version": "1.5.0",
          "state": {
            "_dom_classes": [],
            "_model_module": "@jupyter-widgets/controls",
            "_model_module_version": "1.5.0",
            "_model_name": "HTMLModel",
            "_view_count": null,
            "_view_module": "@jupyter-widgets/controls",
            "_view_module_version": "1.5.0",
            "_view_name": "HTMLView",
            "description": "",
            "description_tooltip": null,
            "layout": "IPY_MODEL_02e2ea03596b4ff98ef0186eaee233b4",
            "placeholder": "​",
            "style": "IPY_MODEL_7a0c9028b1d646ec9462a5f87859d090",
            "value": " 4.48k/? [00:00&lt;00:00, 223kB/s]"
          }
        },
        "df7e61c8eaa249469396d7427722d8e7": {
          "model_module": "@jupyter-widgets/base",
          "model_name": "LayoutModel",
          "model_module_version": "1.2.0",
          "state": {
            "_model_module": "@jupyter-widgets/base",
            "_model_module_version": "1.2.0",
            "_model_name": "LayoutModel",
            "_view_count": null,
            "_view_module": "@jupyter-widgets/base",
            "_view_module_version": "1.2.0",
            "_view_name": "LayoutView",
            "align_content": null,
            "align_items": null,
            "align_self": null,
            "border": null,
            "bottom": null,
            "display": null,
            "flex": null,
            "flex_flow": null,
            "grid_area": null,
            "grid_auto_columns": null,
            "grid_auto_flow": null,
            "grid_auto_rows": null,
            "grid_column": null,
            "grid_gap": null,
            "grid_row": null,
            "grid_template_areas": null,
            "grid_template_columns": null,
            "grid_template_rows": null,
            "height": null,
            "justify_content": null,
            "justify_items": null,
            "left": null,
            "margin": null,
            "max_height": null,
            "max_width": null,
            "min_height": null,
            "min_width": null,
            "object_fit": null,
            "object_position": null,
            "order": null,
            "overflow": null,
            "overflow_x": null,
            "overflow_y": null,
            "padding": null,
            "right": null,
            "top": null,
            "visibility": null,
            "width": null
          }
        },
        "a1fc8c04b4ad43a29022661bf355b580": {
          "model_module": "@jupyter-widgets/base",
          "model_name": "LayoutModel",
          "model_module_version": "1.2.0",
          "state": {
            "_model_module": "@jupyter-widgets/base",
            "_model_module_version": "1.2.0",
            "_model_name": "LayoutModel",
            "_view_count": null,
            "_view_module": "@jupyter-widgets/base",
            "_view_module_version": "1.2.0",
            "_view_name": "LayoutView",
            "align_content": null,
            "align_items": null,
            "align_self": null,
            "border": null,
            "bottom": null,
            "display": null,
            "flex": null,
            "flex_flow": null,
            "grid_area": null,
            "grid_auto_columns": null,
            "grid_auto_flow": null,
            "grid_auto_rows": null,
            "grid_column": null,
            "grid_gap": null,
            "grid_row": null,
            "grid_template_areas": null,
            "grid_template_columns": null,
            "grid_template_rows": null,
            "height": null,
            "justify_content": null,
            "justify_items": null,
            "left": null,
            "margin": null,
            "max_height": null,
            "max_width": null,
            "min_height": null,
            "min_width": null,
            "object_fit": null,
            "object_position": null,
            "order": null,
            "overflow": null,
            "overflow_x": null,
            "overflow_y": null,
            "padding": null,
            "right": null,
            "top": null,
            "visibility": null,
            "width": null
          }
        },
        "7035b8c0619d40899774275672927875": {
          "model_module": "@jupyter-widgets/controls",
          "model_name": "DescriptionStyleModel",
          "model_module_version": "1.5.0",
          "state": {
            "_model_module": "@jupyter-widgets/controls",
            "_model_module_version": "1.5.0",
            "_model_name": "DescriptionStyleModel",
            "_view_count": null,
            "_view_module": "@jupyter-widgets/base",
            "_view_module_version": "1.2.0",
            "_view_name": "StyleView",
            "description_width": ""
          }
        },
        "bee6348ea7614414a6f027f89d25132e": {
          "model_module": "@jupyter-widgets/base",
          "model_name": "LayoutModel",
          "model_module_version": "1.2.0",
          "state": {
            "_model_module": "@jupyter-widgets/base",
            "_model_module_version": "1.2.0",
            "_model_name": "LayoutModel",
            "_view_count": null,
            "_view_module": "@jupyter-widgets/base",
            "_view_module_version": "1.2.0",
            "_view_name": "LayoutView",
            "align_content": null,
            "align_items": null,
            "align_self": null,
            "border": null,
            "bottom": null,
            "display": null,
            "flex": null,
            "flex_flow": null,
            "grid_area": null,
            "grid_auto_columns": null,
            "grid_auto_flow": null,
            "grid_auto_rows": null,
            "grid_column": null,
            "grid_gap": null,
            "grid_row": null,
            "grid_template_areas": null,
            "grid_template_columns": null,
            "grid_template_rows": null,
            "height": null,
            "justify_content": null,
            "justify_items": null,
            "left": null,
            "margin": null,
            "max_height": null,
            "max_width": null,
            "min_height": null,
            "min_width": null,
            "object_fit": null,
            "object_position": null,
            "order": null,
            "overflow": null,
            "overflow_x": null,
            "overflow_y": null,
            "padding": null,
            "right": null,
            "top": null,
            "visibility": null,
            "width": null
          }
        },
        "2f6011810478472c9f5f55159ced6d40": {
          "model_module": "@jupyter-widgets/controls",
          "model_name": "ProgressStyleModel",
          "model_module_version": "1.5.0",
          "state": {
            "_model_module": "@jupyter-widgets/controls",
            "_model_module_version": "1.5.0",
            "_model_name": "ProgressStyleModel",
            "_view_count": null,
            "_view_module": "@jupyter-widgets/base",
            "_view_module_version": "1.2.0",
            "_view_name": "StyleView",
            "bar_color": null,
            "description_width": ""
          }
        },
        "02e2ea03596b4ff98ef0186eaee233b4": {
          "model_module": "@jupyter-widgets/base",
          "model_name": "LayoutModel",
          "model_module_version": "1.2.0",
          "state": {
            "_model_module": "@jupyter-widgets/base",
            "_model_module_version": "1.2.0",
            "_model_name": "LayoutModel",
            "_view_count": null,
            "_view_module": "@jupyter-widgets/base",
            "_view_module_version": "1.2.0",
            "_view_name": "LayoutView",
            "align_content": null,
            "align_items": null,
            "align_self": null,
            "border": null,
            "bottom": null,
            "display": null,
            "flex": null,
            "flex_flow": null,
            "grid_area": null,
            "grid_auto_columns": null,
            "grid_auto_flow": null,
            "grid_auto_rows": null,
            "grid_column": null,
            "grid_gap": null,
            "grid_row": null,
            "grid_template_areas": null,
            "grid_template_columns": null,
            "grid_template_rows": null,
            "height": null,
            "justify_content": null,
            "justify_items": null,
            "left": null,
            "margin": null,
            "max_height": null,
            "max_width": null,
            "min_height": null,
            "min_width": null,
            "object_fit": null,
            "object_position": null,
            "order": null,
            "overflow": null,
            "overflow_x": null,
            "overflow_y": null,
            "padding": null,
            "right": null,
            "top": null,
            "visibility": null,
            "width": null
          }
        },
        "7a0c9028b1d646ec9462a5f87859d090": {
          "model_module": "@jupyter-widgets/controls",
          "model_name": "DescriptionStyleModel",
          "model_module_version": "1.5.0",
          "state": {
            "_model_module": "@jupyter-widgets/controls",
            "_model_module_version": "1.5.0",
            "_model_name": "DescriptionStyleModel",
            "_view_count": null,
            "_view_module": "@jupyter-widgets/base",
            "_view_module_version": "1.2.0",
            "_view_name": "StyleView",
            "description_width": ""
          }
        },
        "af17d64b64d549168e57d4a88ad53fba": {
          "model_module": "@jupyter-widgets/controls",
          "model_name": "HBoxModel",
          "model_module_version": "1.5.0",
          "state": {
            "_dom_classes": [],
            "_model_module": "@jupyter-widgets/controls",
            "_model_module_version": "1.5.0",
            "_model_name": "HBoxModel",
            "_view_count": null,
            "_view_module": "@jupyter-widgets/controls",
            "_view_module_version": "1.5.0",
            "_view_name": "HBoxView",
            "box_style": "",
            "children": [
              "IPY_MODEL_b2cf9de146524633a248f3fc5a34c584",
              "IPY_MODEL_75c469edefae46e68146143b97e05296",
              "IPY_MODEL_395dec4341b649ebb6a9610aba75c7d2"
            ],
            "layout": "IPY_MODEL_a1cd15ced1e94ceb912a017f0e73c9ca"
          }
        },
        "b2cf9de146524633a248f3fc5a34c584": {
          "model_module": "@jupyter-widgets/controls",
          "model_name": "HTMLModel",
          "model_module_version": "1.5.0",
          "state": {
            "_dom_classes": [],
            "_model_module": "@jupyter-widgets/controls",
            "_model_module_version": "1.5.0",
            "_model_name": "HTMLModel",
            "_view_count": null,
            "_view_module": "@jupyter-widgets/controls",
            "_view_module_version": "1.5.0",
            "_view_name": "HTMLView",
            "description": "",
            "description_tooltip": null,
            "layout": "IPY_MODEL_ffb4eca17dbf4b95b74e0d54e7b13fc1",
            "placeholder": "​",
            "style": "IPY_MODEL_abdf059760924b41ad7f4e4adaa1a97b",
            "value": ""
          }
        },
        "75c469edefae46e68146143b97e05296": {
          "model_module": "@jupyter-widgets/controls",
          "model_name": "FloatProgressModel",
          "model_module_version": "1.5.0",
          "state": {
            "_dom_classes": [],
            "_model_module": "@jupyter-widgets/controls",
            "_model_module_version": "1.5.0",
            "_model_name": "FloatProgressModel",
            "_view_count": null,
            "_view_module": "@jupyter-widgets/controls",
            "_view_module_version": "1.5.0",
            "_view_name": "ProgressView",
            "bar_style": "success",
            "description": "",
            "description_tooltip": null,
            "layout": "IPY_MODEL_1eb1acb10edf4a0980e1db898fc5b7c6",
            "max": 1,
            "min": 0,
            "orientation": "horizontal",
            "style": "IPY_MODEL_6019f9315120404e9013b2bf332c2676",
            "value": 1
          }
        },
        "395dec4341b649ebb6a9610aba75c7d2": {
          "model_module": "@jupyter-widgets/controls",
          "model_name": "HTMLModel",
          "model_module_version": "1.5.0",
          "state": {
            "_dom_classes": [],
            "_model_module": "@jupyter-widgets/controls",
            "_model_module_version": "1.5.0",
            "_model_name": "HTMLModel",
            "_view_count": null,
            "_view_module": "@jupyter-widgets/controls",
            "_view_module_version": "1.5.0",
            "_view_name": "HTMLView",
            "description": "",
            "description_tooltip": null,
            "layout": "IPY_MODEL_345b214a214c40fe90998cf1408e9029",
            "placeholder": "​",
            "style": "IPY_MODEL_ccc1e9ae579842b4aff11f557d01a08a",
            "value": " 1680/? [01:05&lt;00:00, 21.84ex/s]"
          }
        },
        "a1cd15ced1e94ceb912a017f0e73c9ca": {
          "model_module": "@jupyter-widgets/base",
          "model_name": "LayoutModel",
          "model_module_version": "1.2.0",
          "state": {
            "_model_module": "@jupyter-widgets/base",
            "_model_module_version": "1.2.0",
            "_model_name": "LayoutModel",
            "_view_count": null,
            "_view_module": "@jupyter-widgets/base",
            "_view_module_version": "1.2.0",
            "_view_name": "LayoutView",
            "align_content": null,
            "align_items": null,
            "align_self": null,
            "border": null,
            "bottom": null,
            "display": null,
            "flex": null,
            "flex_flow": null,
            "grid_area": null,
            "grid_auto_columns": null,
            "grid_auto_flow": null,
            "grid_auto_rows": null,
            "grid_column": null,
            "grid_gap": null,
            "grid_row": null,
            "grid_template_areas": null,
            "grid_template_columns": null,
            "grid_template_rows": null,
            "height": null,
            "justify_content": null,
            "justify_items": null,
            "left": null,
            "margin": null,
            "max_height": null,
            "max_width": null,
            "min_height": null,
            "min_width": null,
            "object_fit": null,
            "object_position": null,
            "order": null,
            "overflow": null,
            "overflow_x": null,
            "overflow_y": null,
            "padding": null,
            "right": null,
            "top": null,
            "visibility": null,
            "width": null
          }
        },
        "ffb4eca17dbf4b95b74e0d54e7b13fc1": {
          "model_module": "@jupyter-widgets/base",
          "model_name": "LayoutModel",
          "model_module_version": "1.2.0",
          "state": {
            "_model_module": "@jupyter-widgets/base",
            "_model_module_version": "1.2.0",
            "_model_name": "LayoutModel",
            "_view_count": null,
            "_view_module": "@jupyter-widgets/base",
            "_view_module_version": "1.2.0",
            "_view_name": "LayoutView",
            "align_content": null,
            "align_items": null,
            "align_self": null,
            "border": null,
            "bottom": null,
            "display": null,
            "flex": null,
            "flex_flow": null,
            "grid_area": null,
            "grid_auto_columns": null,
            "grid_auto_flow": null,
            "grid_auto_rows": null,
            "grid_column": null,
            "grid_gap": null,
            "grid_row": null,
            "grid_template_areas": null,
            "grid_template_columns": null,
            "grid_template_rows": null,
            "height": null,
            "justify_content": null,
            "justify_items": null,
            "left": null,
            "margin": null,
            "max_height": null,
            "max_width": null,
            "min_height": null,
            "min_width": null,
            "object_fit": null,
            "object_position": null,
            "order": null,
            "overflow": null,
            "overflow_x": null,
            "overflow_y": null,
            "padding": null,
            "right": null,
            "top": null,
            "visibility": null,
            "width": null
          }
        },
        "abdf059760924b41ad7f4e4adaa1a97b": {
          "model_module": "@jupyter-widgets/controls",
          "model_name": "DescriptionStyleModel",
          "model_module_version": "1.5.0",
          "state": {
            "_model_module": "@jupyter-widgets/controls",
            "_model_module_version": "1.5.0",
            "_model_name": "DescriptionStyleModel",
            "_view_count": null,
            "_view_module": "@jupyter-widgets/base",
            "_view_module_version": "1.2.0",
            "_view_name": "StyleView",
            "description_width": ""
          }
        },
        "1eb1acb10edf4a0980e1db898fc5b7c6": {
          "model_module": "@jupyter-widgets/base",
          "model_name": "LayoutModel",
          "model_module_version": "1.2.0",
          "state": {
            "_model_module": "@jupyter-widgets/base",
            "_model_module_version": "1.2.0",
            "_model_name": "LayoutModel",
            "_view_count": null,
            "_view_module": "@jupyter-widgets/base",
            "_view_module_version": "1.2.0",
            "_view_name": "LayoutView",
            "align_content": null,
            "align_items": null,
            "align_self": null,
            "border": null,
            "bottom": null,
            "display": null,
            "flex": null,
            "flex_flow": null,
            "grid_area": null,
            "grid_auto_columns": null,
            "grid_auto_flow": null,
            "grid_auto_rows": null,
            "grid_column": null,
            "grid_gap": null,
            "grid_row": null,
            "grid_template_areas": null,
            "grid_template_columns": null,
            "grid_template_rows": null,
            "height": null,
            "justify_content": null,
            "justify_items": null,
            "left": null,
            "margin": null,
            "max_height": null,
            "max_width": null,
            "min_height": null,
            "min_width": null,
            "object_fit": null,
            "object_position": null,
            "order": null,
            "overflow": null,
            "overflow_x": null,
            "overflow_y": null,
            "padding": null,
            "right": null,
            "top": null,
            "visibility": null,
            "width": "20px"
          }
        },
        "6019f9315120404e9013b2bf332c2676": {
          "model_module": "@jupyter-widgets/controls",
          "model_name": "ProgressStyleModel",
          "model_module_version": "1.5.0",
          "state": {
            "_model_module": "@jupyter-widgets/controls",
            "_model_module_version": "1.5.0",
            "_model_name": "ProgressStyleModel",
            "_view_count": null,
            "_view_module": "@jupyter-widgets/base",
            "_view_module_version": "1.2.0",
            "_view_name": "StyleView",
            "bar_color": null,
            "description_width": ""
          }
        },
        "345b214a214c40fe90998cf1408e9029": {
          "model_module": "@jupyter-widgets/base",
          "model_name": "LayoutModel",
          "model_module_version": "1.2.0",
          "state": {
            "_model_module": "@jupyter-widgets/base",
            "_model_module_version": "1.2.0",
            "_model_name": "LayoutModel",
            "_view_count": null,
            "_view_module": "@jupyter-widgets/base",
            "_view_module_version": "1.2.0",
            "_view_name": "LayoutView",
            "align_content": null,
            "align_items": null,
            "align_self": null,
            "border": null,
            "bottom": null,
            "display": null,
            "flex": null,
            "flex_flow": null,
            "grid_area": null,
            "grid_auto_columns": null,
            "grid_auto_flow": null,
            "grid_auto_rows": null,
            "grid_column": null,
            "grid_gap": null,
            "grid_row": null,
            "grid_template_areas": null,
            "grid_template_columns": null,
            "grid_template_rows": null,
            "height": null,
            "justify_content": null,
            "justify_items": null,
            "left": null,
            "margin": null,
            "max_height": null,
            "max_width": null,
            "min_height": null,
            "min_width": null,
            "object_fit": null,
            "object_position": null,
            "order": null,
            "overflow": null,
            "overflow_x": null,
            "overflow_y": null,
            "padding": null,
            "right": null,
            "top": null,
            "visibility": null,
            "width": null
          }
        },
        "ccc1e9ae579842b4aff11f557d01a08a": {
          "model_module": "@jupyter-widgets/controls",
          "model_name": "DescriptionStyleModel",
          "model_module_version": "1.5.0",
          "state": {
            "_model_module": "@jupyter-widgets/controls",
            "_model_module_version": "1.5.0",
            "_model_name": "DescriptionStyleModel",
            "_view_count": null,
            "_view_module": "@jupyter-widgets/base",
            "_view_module_version": "1.2.0",
            "_view_name": "StyleView",
            "description_width": ""
          }
        }
      }
    },
    "accelerator": "GPU",
    "gpuClass": "standard"
  },
  "cells": [
    {
      "cell_type": "markdown",
      "metadata": {
        "id": "view-in-github",
        "colab_type": "text"
      },
      "source": [
        "<a href=\"https://colab.research.google.com/github/IlyaZelinskiy/Wav2vec_CFT_SHIFT_LAB/blob/main/eng_to_ipa_learning_ver_for_recreate.ipynb\" target=\"_parent\"><img src=\"https://colab.research.google.com/assets/colab-badge.svg\" alt=\"Open In Colab\"/></a>"
      ]
    },
    {
      "cell_type": "code",
      "source": [
        "!pip install eng-to-ipa \n",
        "!pip install datasets==1.18.3\n",
        "!pip install transformers==4.17.0\n",
        "\n",
        "from datasets import load_dataset, load_metric\n",
        "repo_name = \"wav2vec2-base-timit-demo-google-colab\"\n",
        "timit = load_dataset(\"timit_asr\")"
      ],
      "metadata": {
        "id": "gMxrgyxRT_st"
      },
      "execution_count": null,
      "outputs": []
    },
    {
      "cell_type": "code",
      "source": [
        "timit = timit.remove_columns([\"phonetic_detail\", \"word_detail\", \"dialect_region\", \"id\", \"sentence_type\", \"speaker_id\"])"
      ],
      "metadata": {
        "id": "wpCimNmBKqtC"
      },
      "execution_count": 2,
      "outputs": []
    },
    {
      "cell_type": "code",
      "source": [
        "import re\n",
        "chars_to_ignore_regex = '[\\,\\?\\.\\!\\-\\;\\:\\\"]'\n",
        "\n",
        "def remove_special_characters(batch):\n",
        "    batch[\"text\"] = re.sub(chars_to_ignore_regex, '', batch[\"text\"]).lower() + \" \"\n",
        "    return batch"
      ],
      "metadata": {
        "id": "ULKQjuBiKvFT"
      },
      "execution_count": 3,
      "outputs": []
    },
    {
      "cell_type": "code",
      "source": [
        "timit = timit.map(remove_special_characters)"
      ],
      "metadata": {
        "colab": {
          "base_uri": "https://localhost:8080/",
          "height": 119,
          "referenced_widgets": [
            "a8acd0e9cbc949d68759419a0e4a93f3",
            "981e61f65584439cbabcaa8e73cb4d18",
            "3b21a9da3fc94ee28c9ce8e472fa13e7",
            "6f3be784b593438e986dbed0492df0fc",
            "d7053de58a5d437d97a69912b2e14caa",
            "364b31e383de4ce3aabd69a4fec97964",
            "e1843b3a3ba946049b25c8826be07811",
            "4086371498ef4fef8d9c2ec1950608b5",
            "cf433c9a03fd4ed896cda79cc3a1de7f",
            "9d175ca312d94823b0ccb2aa18ebccad",
            "dff03f44b76e4c36b666277474724b06",
            "89d6d0b2a0614ff8ac704748df510857",
            "09006268d2ff4dcf865555b03c787226",
            "30c9219a8e8847a08ee5e492eab61fd6",
            "2d4c1421036644999a2a4aeb5523ff06",
            "e278fb8d39d941b58f1a921467c7b7e7",
            "8177b56fef07454ab3a37c474b773908",
            "c8007bb5ef314eedad552b9d19b0cd1f",
            "5f2bc2d0e7414324a27adc5ec2c74959",
            "da328da266a3447388d3ba4d961fc396",
            "0baa41fa896e4329bcf794c70e58ebd1",
            "b6dd231a68dd45f29734c69ccb4508d6"
          ]
        },
        "id": "ivPNI2yjNEZQ",
        "outputId": "ba64ea2b-af5a-4f01-b77c-a9231828153e"
      },
      "execution_count": 4,
      "outputs": [
        {
          "output_type": "stream",
          "name": "stderr",
          "text": [
            "WARNING:datasets.fingerprint:Parameter 'function'=<function remove_special_characters at 0x7f72bf00d280> of the transform datasets.arrow_dataset.Dataset._map_single couldn't be hashed properly, a random hash was used instead. Make sure your transforms and parameters are serializable with pickle or dill for the dataset fingerprinting and caching to work. If you reuse this transform, the caching mechanism will consider it to be different from the previous calls and recompute everything. This warning is only showed once. Subsequent hashing failures won't be showed.\n"
          ]
        },
        {
          "output_type": "display_data",
          "data": {
            "text/plain": [
              "0ex [00:00, ?ex/s]"
            ],
            "application/vnd.jupyter.widget-view+json": {
              "version_major": 2,
              "version_minor": 0,
              "model_id": "a8acd0e9cbc949d68759419a0e4a93f3"
            }
          },
          "metadata": {}
        },
        {
          "output_type": "display_data",
          "data": {
            "text/plain": [
              "0ex [00:00, ?ex/s]"
            ],
            "application/vnd.jupyter.widget-view+json": {
              "version_major": 2,
              "version_minor": 0,
              "model_id": "89d6d0b2a0614ff8ac704748df510857"
            }
          },
          "metadata": {}
        }
      ]
    },
    {
      "cell_type": "code",
      "source": [
        "!pip install eng-to-ipa \n",
        "import eng_to_ipa as p"
      ],
      "metadata": {
        "colab": {
          "base_uri": "https://localhost:8080/"
        },
        "id": "u4hY40pyvk_m",
        "outputId": "ae19b250-0e81-4866-a19d-1c3a8baa1fca"
      },
      "execution_count": 10,
      "outputs": [
        {
          "output_type": "stream",
          "name": "stdout",
          "text": [
            "Looking in indexes: https://pypi.org/simple, https://us-python.pkg.dev/colab-wheels/public/simple/\n",
            "Requirement already satisfied: eng-to-ipa in /usr/local/lib/python3.8/dist-packages (0.0.2)\n"
          ]
        }
      ]
    },
    {
      "cell_type": "code",
      "source": [
        "def extract_all_phonems(batch):\n",
        "    all_text = p.convert(batch['text'])\n",
        "    all_text = \" \".join(all_text)\n",
        "    vocab = list(set(all_text))\n",
        "    return {\"vocab\": [vocab], \"all_text\": [all_text]}"
      ],
      "metadata": {
        "id": "imna-o3rtpkL"
      },
      "execution_count": 13,
      "outputs": []
    },
    {
      "cell_type": "code",
      "source": [
        "vocabs = timit.map(extract_all_phonems, batched=True, batch_size=-1, keep_in_memory=True, remove_columns=timit.column_names[\"train\"])"
      ],
      "metadata": {
        "colab": {
          "base_uri": "https://localhost:8080/",
          "height": 81,
          "referenced_widgets": [
            "b9098cffc45142b19fda261fdc50cc33",
            "5c97a3fd8f3c4cb994bd461cb06ef997",
            "cd7b843e019c4a529cc03dd5d02e4e58",
            "b51f3b7edeca4fe6bd60d757004fe24c",
            "55e83e0894094470baf7c7dccb5254fb",
            "78ce0b80e5d4446b882c65c2ad443b47",
            "6efa4fa0d39f4a0e8a163b8969773b46",
            "779c59a2616b4a1ea96a4097d6e96e83",
            "c83ee9b9dc134dd4b1d5c0809883784d",
            "bca85cb9aa58448daa1115cdf01c6ab5",
            "dd1c155183af40dd910a4f2808355a89",
            "1ada5b9057fd4cabab97f55601808af7",
            "9dbb970d762e4a0588e3779fc30a669a",
            "4e91d7dd49174aab8dc795e3444340d5",
            "f31b3cffa59448e5adbccfae63da451e",
            "48edbab4f5ec491797612ed49e0c9e2c",
            "a19a8cffdc124136a9d566e6aa7e3f8a",
            "d7eed3d7e0de42399e50f2bb5ceb61ad",
            "a4ef9a23e9d1463a883d485c4aed8095",
            "0bd2fb7403bf4c00a72155d08365bfbe",
            "19257615f305469e99b0102a310423f0",
            "fb94188d3b774ffbadb149830dc70ce1"
          ]
        },
        "id": "7U3ch1tcNLzH",
        "outputId": "35437d95-6300-4c0f-b5ff-8ab27c756654"
      },
      "execution_count": 14,
      "outputs": [
        {
          "output_type": "display_data",
          "data": {
            "text/plain": [
              "  0%|          | 0/1 [00:00<?, ?ba/s]"
            ],
            "application/vnd.jupyter.widget-view+json": {
              "version_major": 2,
              "version_minor": 0,
              "model_id": "b9098cffc45142b19fda261fdc50cc33"
            }
          },
          "metadata": {}
        },
        {
          "output_type": "display_data",
          "data": {
            "text/plain": [
              "  0%|          | 0/1 [00:00<?, ?ba/s]"
            ],
            "application/vnd.jupyter.widget-view+json": {
              "version_major": 2,
              "version_minor": 0,
              "model_id": "1ada5b9057fd4cabab97f55601808af7"
            }
          },
          "metadata": {}
        }
      ]
    },
    {
      "cell_type": "code",
      "source": [],
      "metadata": {
        "id": "snQjLyuGvXi0"
      },
      "execution_count": null,
      "outputs": []
    },
    {
      "cell_type": "code",
      "source": [
        "vocab_list = list(set(vocabs[\"train\"][\"vocab\"][0]) | set(vocabs[\"test\"][\"vocab\"][0]))"
      ],
      "metadata": {
        "id": "upJ9cDzRNPQS"
      },
      "execution_count": null,
      "outputs": []
    },
    {
      "cell_type": "code",
      "source": [
        "vocab_dict = {v: k for k, v in enumerate(vocab_list)}\n",
        "#vocab_dict"
      ],
      "metadata": {
        "id": "ABl_V5U8NSRm"
      },
      "execution_count": null,
      "outputs": []
    },
    {
      "cell_type": "code",
      "source": [
        "vocab_dict[\"|\"] = vocab_dict[\" \"]\n",
        "del vocab_dict[\" \"]\n",
        "vocab_dict[\"[UNK]\"] = len(vocab_dict)\n",
        "vocab_dict[\"[PAD]\"] = len(vocab_dict)\n",
        "len(vocab_dict)"
      ],
      "metadata": {
        "colab": {
          "base_uri": "https://localhost:8080/"
        },
        "id": "sNuXBM7aNVJO",
        "outputId": "1b2632d5-df0d-46eb-ba33-a990d70f8735"
      },
      "execution_count": null,
      "outputs": [
        {
          "output_type": "execute_result",
          "data": {
            "text/plain": [
              "46"
            ]
          },
          "metadata": {},
          "execution_count": 10
        }
      ]
    },
    {
      "cell_type": "code",
      "source": [
        "import json\n",
        "with open('vocab.json', 'w') as vocab_file:\n",
        "    json.dump(vocab_dict, vocab_file)"
      ],
      "metadata": {
        "id": "LSOGs7Y9Nu99"
      },
      "execution_count": null,
      "outputs": []
    },
    {
      "cell_type": "code",
      "source": [
        "from transformers import Wav2Vec2CTCTokenizer\n",
        "\n",
        "tokenizer = Wav2Vec2CTCTokenizer(\"./vocab.json\", unk_token=\"[UNK]\", pad_token=\"[PAD]\", word_delimiter_token=\"|\")"
      ],
      "metadata": {
        "id": "E39bCkUKNgHG",
        "colab": {
          "base_uri": "https://localhost:8080/"
        },
        "outputId": "e2f4506f-b195-4218-c81d-bf155a1ef58f"
      },
      "execution_count": 5,
      "outputs": [
        {
          "output_type": "stream",
          "name": "stdout",
          "text": [
            "Looking in indexes: https://pypi.org/simple, https://us-python.pkg.dev/colab-wheels/public/simple/\n",
            "Collecting jiwer\n",
            "  Downloading jiwer-2.5.1-py3-none-any.whl (15 kB)\n",
            "Collecting levenshtein==0.20.2\n",
            "  Downloading Levenshtein-0.20.2-cp38-cp38-manylinux_2_17_x86_64.manylinux2014_x86_64.whl (1.4 MB)\n",
            "\u001b[K     |████████████████████████████████| 1.4 MB 9.3 MB/s \n",
            "\u001b[?25hCollecting rapidfuzz<3.0.0,>=2.3.0\n",
            "  Downloading rapidfuzz-2.13.7-cp38-cp38-manylinux_2_17_x86_64.manylinux2014_x86_64.whl (2.2 MB)\n",
            "\u001b[K     |████████████████████████████████| 2.2 MB 55.4 MB/s \n",
            "\u001b[?25hInstalling collected packages: rapidfuzz, levenshtein, jiwer\n",
            "Successfully installed jiwer-2.5.1 levenshtein-0.20.2 rapidfuzz-2.13.7\n"
          ]
        }
      ]
    },
    {
      "cell_type": "code",
      "source": [
        "from transformers import Wav2Vec2FeatureExtractor\n",
        "\n",
        "feature_extractor = Wav2Vec2FeatureExtractor(feature_size=1, sampling_rate=16000, padding_value=0.0, do_normalize=True, return_attention_mask=False)"
      ],
      "metadata": {
        "id": "4ltL20puNq_V"
      },
      "execution_count": 6,
      "outputs": []
    },
    {
      "cell_type": "code",
      "source": [
        "from transformers import Wav2Vec2Processor\n",
        "\n",
        "processor = Wav2Vec2Processor(feature_extractor=feature_extractor, tokenizer=tokenizer)"
      ],
      "metadata": {
        "id": "4ttUhu58N-_t"
      },
      "execution_count": 7,
      "outputs": []
    },
    {
      "cell_type": "markdown",
      "source": [
        "Функция для прослушивания аудио"
      ],
      "metadata": {
        "id": "R06XwCmBOWLJ"
      }
    },
    {
      "cell_type": "code",
      "source": [
        "\n",
        "import IPython.display as ipd\n",
        "import numpy as np\n",
        "import random\n",
        "\n",
        "rand_int = random.randint(0, len(timit[\"train\"]))\n",
        "\n",
        "print(timit[\"train\"][rand_int][\"text\"])\n",
        "ipd.Audio(data=np.asarray(timit[\"train\"][rand_int][\"audio\"][\"array\"]), autoplay=False, rate=16000)"
      ],
      "metadata": {
        "colab": {
          "base_uri": "https://localhost:8080/",
          "height": 93
        },
        "id": "HPnJe2kYOJSy",
        "outputId": "4edd11a0-f1c8-4b83-d417-f1e321a4c440"
      },
      "execution_count": null,
      "outputs": [
        {
          "output_type": "stream",
          "name": "stdout",
          "text": [
            "a voice spoke nearathand   \n"
          ]
        },
        {
          "output_type": "execute_result",
          "data": {
            "text/plain": [
              "<IPython.lib.display.Audio object>"
            ],
            "text/html": [
              "\n",
              "                <audio  controls=\"controls\" >\n",
              "                    <source src=\"data:audio/wav;base64,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\" type=\"audio/wav\" />\n",
              "                    Your browser does not support the audio element.\n",
              "                </audio>\n",
              "              "
            ]
          },
          "metadata": {},
          "execution_count": 36
        }
      ]
    },
    {
      "cell_type": "code",
      "source": [
        "timit"
      ],
      "metadata": {
        "colab": {
          "base_uri": "https://localhost:8080/"
        },
        "id": "uxUcoCVwOi1m",
        "outputId": "09bde62e-03b8-4370-badd-ef2b03686b23"
      },
      "execution_count": null,
      "outputs": [
        {
          "output_type": "execute_result",
          "data": {
            "text/plain": [
              "DatasetDict({\n",
              "    train: Dataset({\n",
              "        features: ['file', 'audio', 'text'],\n",
              "        num_rows: 4620\n",
              "    })\n",
              "    test: Dataset({\n",
              "        features: ['file', 'audio', 'text'],\n",
              "        num_rows: 1680\n",
              "    })\n",
              "})"
            ]
          },
          "metadata": {},
          "execution_count": 37
        }
      ]
    },
    {
      "cell_type": "code",
      "source": [
        "def prepare_dataset(batch):\n",
        "    audio = batch[\"audio\"]\n",
        "\n",
        "    batch[\"input_values\"] = processor(audio[\"array\"], sampling_rate=audio[\"sampling_rate\"]).input_values[0]\n",
        "    batch[\"input_length\"] = len(batch[\"input_values\"])\n",
        "    \n",
        "    with processor.as_target_processor():\n",
        "        batch[\"labels\"] = processor(p.convert(batch[\"text\"])).input_ids\n",
        "    return batch"
      ],
      "metadata": {
        "id": "FRsHtiThOxYc"
      },
      "execution_count": 8,
      "outputs": []
    },
    {
      "cell_type": "code",
      "source": [
        "dataset = timit.map(prepare_dataset, remove_columns=timit.column_names[\"train\"], num_proc=4)"
      ],
      "metadata": {
        "id": "KOB6J-jdSXrc"
      },
      "execution_count": 11,
      "outputs": []
    },
    {
      "cell_type": "code",
      "source": [
        "max_input_length_in_sec = 5.0\n",
        "dataset['train'] = dataset['train'].filter(lambda x: x < max_input_length_in_sec * processor.feature_extractor.sampling_rate, input_columns=[\"input_length\"])"
      ],
      "metadata": {
        "colab": {
          "base_uri": "https://localhost:8080/",
          "height": 49,
          "referenced_widgets": [
            "6417ee57b8df4286aa7c62c85b85bdf9",
            "f2ce195a09cb41a0b9653e65b1329f4b",
            "ad07be62c055462499d510b1400585bb",
            "d6d79629d2044944a69210dee7481878",
            "a2c02e2e527149da8d54b4289499848a",
            "8bc24845bb4d4cf99952adf086fc6e63",
            "89e98812dfa44deeb206c62d701590d3",
            "ef9d889c474247c7b11fd5ca58444712",
            "56c0cc435173410c8b2480628fdc6026",
            "dd81d4866fc44f42a589fac1a099f514",
            "902fc01a6afc492a868238143fc8c9bc"
          ]
        },
        "id": "yLPZ4NhwiMY0",
        "outputId": "d5ffbac8-215e-42a0-afdf-d747b02fddd0"
      },
      "execution_count": null,
      "outputs": [
        {
          "output_type": "display_data",
          "data": {
            "text/plain": [
              "  0%|          | 0/5 [00:00<?, ?ba/s]"
            ],
            "application/vnd.jupyter.widget-view+json": {
              "version_major": 2,
              "version_minor": 0,
              "model_id": "6417ee57b8df4286aa7c62c85b85bdf9"
            }
          },
          "metadata": {}
        }
      ]
    },
    {
      "cell_type": "code",
      "source": [
        "import torch\n",
        "\n",
        "from dataclasses import dataclass, field\n",
        "from typing import Any, Dict, List, Optional, Union\n",
        "\n",
        "@dataclass\n",
        "class DataCollatorCTCWithPadding:\n",
        "    \"\"\"\n",
        "    Data collator that will dynamically pad the inputs received.\n",
        "    -Сопоставитель данных, который будет динамически дополнять полученные входные данные.\n",
        "    Args:\n",
        "        processor (:class:`~transformers.Wav2Vec2Processor`)\n",
        "            The processor used for proccessing the data.\n",
        "            -Процессор, используемый для обработки данных.\n",
        "        padding (:obj:`bool`, :obj:`str` or :class:`~transformers.tokenization_utils_base.PaddingStrategy`, `optional`, defaults to :obj:`True`):\n",
        "            Select a strategy to pad the returned sequences (according to the model's padding side and padding index)\n",
        "            -\n",
        "            among:\n",
        "            * :obj:`True` or :obj:`'longest'`: Pad to the longest sequence in the batch (or no padding if only a single\n",
        "              sequence if provided). - Дополнение к самой длинной последовательности в пакете (или без заполнения, если только одна\n",
        "              последовательность, если она указана).\n",
        "            * :obj:`'max_length'`: Pad to a maximum length specified with the argument :obj:`max_length` or to the\n",
        "              maximum acceptable input length for the model if that argument is not provided. - Дополнить до максимальной длины, указанной аргументом :obj:`max_length`, или до\n",
        "              максимальная приемлемая длина входных данных для модели, если этот аргумент не указан.\n",
        "            * :obj:`False` or :obj:`'do_not_pad'` (default): No padding (i.e., can output a batch with sequences of\n",
        "              different lengths).\n",
        "    \"\"\"\n",
        "\n",
        "    processor: Wav2Vec2Processor\n",
        "    padding: Union[bool, str] = True\n",
        "\n",
        "    def __call__(self, features: List[Dict[str, Union[List[int], torch.Tensor]]]) -> Dict[str, torch.Tensor]:\n",
        "        # split inputs and labels since they have to be of different lenghts and need\n",
        "        # different padding methods\n",
        "        input_features = [{\"input_values\": feature[\"input_values\"]} for feature in features]\n",
        "        label_features = [{\"input_ids\": feature[\"labels\"]} for feature in features]\n",
        "\n",
        "        batch = self.processor.pad(\n",
        "            input_features,\n",
        "            padding=self.padding,\n",
        "            return_tensors=\"pt\",\n",
        "        )\n",
        "        with self.processor.as_target_processor():\n",
        "            labels_batch = self.processor.pad(\n",
        "                label_features,\n",
        "                padding=self.padding,\n",
        "                return_tensors=\"pt\",\n",
        "            )\n",
        "\n",
        "        # replace padding with -100 to ignore loss correctly\n",
        "        labels = labels_batch[\"input_ids\"].masked_fill(labels_batch.attention_mask.ne(1), -100)\n",
        "\n",
        "        batch[\"labels\"] = labels\n",
        "\n",
        "        return batch"
      ],
      "metadata": {
        "id": "ZXtcCNp4YN0m"
      },
      "execution_count": null,
      "outputs": []
    },
    {
      "cell_type": "code",
      "source": [
        "data_collator = DataCollatorCTCWithPadding(processor=processor, padding=True)"
      ],
      "metadata": {
        "id": "YjY-ShB3NmHh"
      },
      "execution_count": null,
      "outputs": []
    },
    {
      "cell_type": "code",
      "source": [
        "import torchaudio\n",
        "import torch\n",
        "import numpy as np\n",
        "\n",
        "from transformers import Wav2Vec2ForCTC\n",
        "\n",
        "model = Wav2Vec2ForCTC.from_pretrained(\n",
        "    \"facebook/wav2vec2-base\", \n",
        ")\n",
        "from torch import nn\n",
        "model.lm_head = nn.Linear(in_features= 768, out_features= 46, bias = True)"
      ],
      "metadata": {
        "id": "qE8jsxg8lY0h"
      },
      "execution_count": null,
      "outputs": []
    },
    {
      "cell_type": "code",
      "source": [
        "model.config.vocab_size = 46"
      ],
      "metadata": {
        "id": "9IYdWyRRljtC"
      },
      "execution_count": null,
      "outputs": []
    },
    {
      "cell_type": "code",
      "source": [
        "from datasets import load_metric\n",
        "wer_metric = load_metric(\"wer\")"
      ],
      "metadata": {
        "id": "VVr0JkdeNzNG",
        "colab": {
          "base_uri": "https://localhost:8080/",
          "height": 49,
          "referenced_widgets": [
            "98601f8e6b084ee5b30de5c2d34ab4f5",
            "4206f24de4ae4aaa96b4bb33b7d94fc0",
            "92c0993733c948068e74fdc5a5bd4759",
            "55f658cd42b24f04944b102e9309d15f",
            "df7e61c8eaa249469396d7427722d8e7",
            "a1fc8c04b4ad43a29022661bf355b580",
            "7035b8c0619d40899774275672927875",
            "bee6348ea7614414a6f027f89d25132e",
            "2f6011810478472c9f5f55159ced6d40",
            "02e2ea03596b4ff98ef0186eaee233b4",
            "7a0c9028b1d646ec9462a5f87859d090"
          ]
        },
        "outputId": "17d8a0ba-e3c6-4295-a0c1-671abba0e2d5"
      },
      "execution_count": 21,
      "outputs": [
        {
          "output_type": "display_data",
          "data": {
            "text/plain": [
              "Downloading:   0%|          | 0.00/1.90k [00:00<?, ?B/s]"
            ],
            "application/vnd.jupyter.widget-view+json": {
              "version_major": 2,
              "version_minor": 0,
              "model_id": "98601f8e6b084ee5b30de5c2d34ab4f5"
            }
          },
          "metadata": {}
        }
      ]
    },
    {
      "cell_type": "code",
      "source": [
        "def compute_metrics(pred):\n",
        "    pred_logits = pred.predictions\n",
        "    pred_ids = np.argmax(pred_logits, axis=-1)\n",
        "\n",
        "    pred.label_ids[pred.label_ids == -100] = processor.tokenizer.pad_token_id\n",
        "\n",
        "    pred_str = processor.batch_decode(pred_ids)\n",
        "    # we do not want to group tokens when computing the metrics\n",
        "    label_str = processor.batch_decode(pred.label_ids, group_tokens=False)\n",
        "\n",
        "    wer = wer_metric.compute(predictions=pred_str, references=label_str)\n",
        "\n",
        "    return {\"wer\": wer}"
      ],
      "metadata": {
        "id": "Ck1wAGhsOz_t"
      },
      "execution_count": 22,
      "outputs": []
    },
    {
      "cell_type": "code",
      "source": [
        "model.freeze_feature_extractor()"
      ],
      "metadata": {
        "id": "hB1uEryoQJog",
        "colab": {
          "base_uri": "https://localhost:8080/"
        },
        "outputId": "4395a9cf-2eb7-4672-9e2c-bd6ea753f19a"
      },
      "execution_count": null,
      "outputs": [
        {
          "output_type": "stream",
          "name": "stderr",
          "text": [
            "/usr/local/lib/python3.8/dist-packages/transformers/models/wav2vec2/modeling_wav2vec2.py:1709: FutureWarning: The method `freeze_feature_extractor` is deprecated and will be removed in Transformers v5.Please use the equivalent `freeze_feature_encoder` method instead.\n",
            "  warnings.warn(\n"
          ]
        }
      ]
    },
    {
      "cell_type": "code",
      "source": [
        "from transformers import TrainingArguments\n",
        "\n",
        "training_args = TrainingArguments(\n",
        "    output_dir=repo_name,\n",
        "    group_by_length=True,\n",
        "    per_device_train_batch_size=8,\n",
        "    gradient_accumulation_steps=4,\n",
        "    evaluation_strategy=\"steps\",\n",
        "    gradient_checkpointing=True,\n",
        "    fp16=True,\n",
        "    max_steps=15000,\n",
        "    save_steps=1000,  #100,\n",
        "    eval_steps=1000,\n",
        "    logging_steps=100,\n",
        "    learning_rate=3e-5,\n",
        "    warmup_steps=2000,\n",
        "    save_total_limit=3,\n",
        "    load_best_model_at_end=True\n",
        ")"
      ],
      "metadata": {
        "id": "elFuEcIIQMbg"
      },
      "execution_count": 12,
      "outputs": []
    },
    {
      "cell_type": "code",
      "source": [
        "from transformers import Trainer\n",
        "\n",
        "trainer = Trainer(\n",
        "    model=model,\n",
        "    data_collator=data_collator,\n",
        "    args=training_args,\n",
        "    compute_metrics=compute_metrics,\n",
        "    train_dataset=dataset[\"train\"],\n",
        "    eval_dataset=dataset[\"test\"],\n",
        "    tokenizer=processor.feature_extractor,\n",
        ")"
      ],
      "metadata": {
        "colab": {
          "base_uri": "https://localhost:8080/"
        },
        "id": "1RJifmGhQeGH",
        "outputId": "1b16bb06-9482-41e5-e408-ceac0e5d4f77"
      },
      "execution_count": null,
      "outputs": [
        {
          "output_type": "stream",
          "name": "stderr",
          "text": [
            "max_steps is given, it will override any value given in num_train_epochs\n",
            "Using amp half precision backend\n"
          ]
        }
      ]
    },
    {
      "cell_type": "code",
      "source": [
        "trainer.train('/content/drive/MyDrive/diploma/path')#после того как обучили часть модели, надо сохранить trainer строчкой\n",
        "#ниже, потом здесь прописать путь откуда возьмется инфа о предыдущем обучении, и так повторяем пока не получим норм метрику\n",
        "#потом юзаем save_pretrained и получаем fine tuning модель!\n",
        "#на первом проходе трейнера путь не указываем!"
      ],
      "metadata": {
        "colab": {
          "base_uri": "https://localhost:8080/",
          "height": 1000
        },
        "id": "TX7-TqY4QjWl",
        "outputId": "b429a611-a4d1-4ba1-e68a-f7a43e142523"
      },
      "execution_count": null,
      "outputs": [
        {
          "metadata": {
            "tags": null
          },
          "name": "stderr",
          "output_type": "stream",
          "text": [
            "Loading model from /content/drive/MyDrive/diploma/wer 0.51(0.27)).\n",
            "The following columns in the training set  don't have a corresponding argument in `Wav2Vec2ForCTC.forward` and have been ignored: input_length. If input_length are not expected by `Wav2Vec2ForCTC.forward`,  you can safely ignore this message.\n",
            "/usr/local/lib/python3.8/dist-packages/transformers/optimization.py:306: FutureWarning: This implementation of AdamW is deprecated and will be removed in a future version. Use the PyTorch implementation torch.optim.AdamW instead, or set `no_deprecation_warning=True` to disable this warning\n",
            "  warnings.warn(\n",
            "***** Running training *****\n",
            "  Num examples = 4620\n",
            "  Num Epochs = 105\n",
            "  Instantaneous batch size per device = 8\n",
            "  Total train batch size (w. parallel, distributed & accumulation) = 32\n",
            "  Gradient Accumulation steps = 4\n",
            "  Total optimization steps = 15000\n"
          ]
        },
        {
          "data": {
            "text/html": [
              "\n",
              "    <div>\n",
              "      \n",
              "      <progress value='6113' max='15000' style='width:300px; height:20px; vertical-align: middle;'></progress>\n",
              "      [ 6113/15000 2:44:42 < 3:59:31, 0.62 it/s, Epoch 42.44/105]\n",
              "    </div>\n",
              "    <table border=\"1\" class=\"dataframe\">\n",
              "  <thead>\n",
              " <tr style=\"text-align: left;\">\n",
              "      <th>Step</th>\n",
              "      <th>Training Loss</th>\n",
              "      <th>Validation Loss</th>\n",
              "      <th>Wer</th>\n",
              "    </tr>\n",
              "  </thead>\n",
              "  <tbody>\n",
              "    <tr>\n",
              "      <td>1000</td>\n",
              "      <td>0.644300</td>\n",
              "      <td>0.312975</td>\n",
              "      <td>0.290056</td>\n",
              "    </tr>\n",
              "    <tr>\n",
              "      <td>2000</td>\n",
              "      <td>0.521900</td>\n",
              "      <td>0.297662</td>\n",
              "      <td>0.276618</td>\n",
              "    </tr>\n",
              "    <tr>\n",
              "      <td>3000</td>\n",
              "      <td>0.462400</td>\n",
              "      <td>0.299377</td>\n",
              "      <td>0.276687</td>\n",
              "    </tr>\n",
              "    <tr>\n",
              "      <td>4000</td>\n",
              "      <td>0.409500</td>\n",
              "      <td>0.289382</td>\n",
              "      <td>0.273792</td>\n",
              "    </tr>\n",
              "    <tr>\n",
              "      <td>5000</td>\n",
              "      <td>0.358200</td>\n",
              "      <td>0.307106</td>\n",
              "      <td>0.273517</td>\n",
              "    </tr>\n",
              "    <tr>\n",
              "      <td>6000</td>\n",
              "      <td>0.353000</td>\n",
              "      <td>0.303311</td>\n",
              "      <td>0.270347</td>\n",
              "    </tr>\n",
              "  </tbody>\n",
              "</table><p>"
            ],
            "text/plain": [
              "<IPython.core.display.HTML object>"
            ]
          },
          "metadata": {},
          "output_type": "display_data"
        },
        {
          "metadata": {
            "tags": null
          },
          "name": "stderr",
          "output_type": "stream",
          "text": [
            "The following columns in the evaluation set  don't have a corresponding argument in `Wav2Vec2ForCTC.forward` and have been ignored: input_length. If input_length are not expected by `Wav2Vec2ForCTC.forward`,  you can safely ignore this message.\n",
            "***** Running Evaluation *****\n",
            "  Num examples = 1680\n",
            "  Batch size = 8\n",
            "Saving model checkpoint to wav2vec2-base-timit-demo-google-colab/checkpoint-1000\n",
            "Configuration saved in wav2vec2-base-timit-demo-google-colab/checkpoint-1000/config.json\n",
            "Model weights saved in wav2vec2-base-timit-demo-google-colab/checkpoint-1000/pytorch_model.bin\n",
            "Feature extractor saved in wav2vec2-base-timit-demo-google-colab/checkpoint-1000/preprocessor_config.json\n",
            "The following columns in the evaluation set  don't have a corresponding argument in `Wav2Vec2ForCTC.forward` and have been ignored: input_length. If input_length are not expected by `Wav2Vec2ForCTC.forward`,  you can safely ignore this message.\n",
            "***** Running Evaluation *****\n",
            "  Num examples = 1680\n",
            "  Batch size = 8\n",
            "Saving model checkpoint to wav2vec2-base-timit-demo-google-colab/checkpoint-2000\n",
            "Configuration saved in wav2vec2-base-timit-demo-google-colab/checkpoint-2000/config.json\n",
            "Model weights saved in wav2vec2-base-timit-demo-google-colab/checkpoint-2000/pytorch_model.bin\n",
            "Feature extractor saved in wav2vec2-base-timit-demo-google-colab/checkpoint-2000/preprocessor_config.json\n",
            "The following columns in the evaluation set  don't have a corresponding argument in `Wav2Vec2ForCTC.forward` and have been ignored: input_length. If input_length are not expected by `Wav2Vec2ForCTC.forward`,  you can safely ignore this message.\n",
            "***** Running Evaluation *****\n",
            "  Num examples = 1680\n",
            "  Batch size = 8\n",
            "Saving model checkpoint to wav2vec2-base-timit-demo-google-colab/checkpoint-3000\n",
            "Configuration saved in wav2vec2-base-timit-demo-google-colab/checkpoint-3000/config.json\n",
            "Model weights saved in wav2vec2-base-timit-demo-google-colab/checkpoint-3000/pytorch_model.bin\n",
            "Feature extractor saved in wav2vec2-base-timit-demo-google-colab/checkpoint-3000/preprocessor_config.json\n",
            "The following columns in the evaluation set  don't have a corresponding argument in `Wav2Vec2ForCTC.forward` and have been ignored: input_length. If input_length are not expected by `Wav2Vec2ForCTC.forward`,  you can safely ignore this message.\n",
            "***** Running Evaluation *****\n",
            "  Num examples = 1680\n",
            "  Batch size = 8\n",
            "Saving model checkpoint to wav2vec2-base-timit-demo-google-colab/checkpoint-4000\n",
            "Configuration saved in wav2vec2-base-timit-demo-google-colab/checkpoint-4000/config.json\n",
            "Model weights saved in wav2vec2-base-timit-demo-google-colab/checkpoint-4000/pytorch_model.bin\n",
            "Feature extractor saved in wav2vec2-base-timit-demo-google-colab/checkpoint-4000/preprocessor_config.json\n",
            "Deleting older checkpoint [wav2vec2-base-timit-demo-google-colab/checkpoint-1000] due to args.save_total_limit\n",
            "The following columns in the evaluation set  don't have a corresponding argument in `Wav2Vec2ForCTC.forward` and have been ignored: input_length. If input_length are not expected by `Wav2Vec2ForCTC.forward`,  you can safely ignore this message.\n",
            "***** Running Evaluation *****\n",
            "  Num examples = 1680\n",
            "  Batch size = 8\n",
            "Saving model checkpoint to wav2vec2-base-timit-demo-google-colab/checkpoint-5000\n",
            "Configuration saved in wav2vec2-base-timit-demo-google-colab/checkpoint-5000/config.json\n",
            "Model weights saved in wav2vec2-base-timit-demo-google-colab/checkpoint-5000/pytorch_model.bin\n",
            "Feature extractor saved in wav2vec2-base-timit-demo-google-colab/checkpoint-5000/preprocessor_config.json\n",
            "Deleting older checkpoint [wav2vec2-base-timit-demo-google-colab/checkpoint-2000] due to args.save_total_limit\n",
            "The following columns in the evaluation set  don't have a corresponding argument in `Wav2Vec2ForCTC.forward` and have been ignored: input_length. If input_length are not expected by `Wav2Vec2ForCTC.forward`,  you can safely ignore this message.\n",
            "***** Running Evaluation *****\n",
            "  Num examples = 1680\n",
            "  Batch size = 8\n",
            "Saving model checkpoint to wav2vec2-base-timit-demo-google-colab/checkpoint-6000\n",
            "Configuration saved in wav2vec2-base-timit-demo-google-colab/checkpoint-6000/config.json\n",
            "Model weights saved in wav2vec2-base-timit-demo-google-colab/checkpoint-6000/pytorch_model.bin\n",
            "Feature extractor saved in wav2vec2-base-timit-demo-google-colab/checkpoint-6000/preprocessor_config.json\n",
            "Deleting older checkpoint [wav2vec2-base-timit-demo-google-colab/checkpoint-3000] due to args.save_total_limit\n"
          ]
        },
        {
          "output_type": "display_data",
          "data": {
            "text/plain": [
              "<IPython.core.display.HTML object>"
            ],
            "text/html": [
              "\n",
              "    <div>\n",
              "      \n",
              "      <progress value='7005' max='15000' style='width:300px; height:20px; vertical-align: middle;'></progress>\n",
              "      [ 7005/15000 3:08:49 < 3:35:34, 0.62 it/s, Epoch 48.64/105]\n",
              "    </div>\n",
              "    <table border=\"1\" class=\"dataframe\">\n",
              "  <thead>\n",
              " <tr style=\"text-align: left;\">\n",
              "      <th>Step</th>\n",
              "      <th>Training Loss</th>\n",
              "      <th>Validation Loss</th>\n",
              "      <th>Wer</th>\n",
              "    </tr>\n",
              "  </thead>\n",
              "  <tbody>\n",
              "    <tr>\n",
              "      <td>1000</td>\n",
              "      <td>0.644300</td>\n",
              "      <td>0.312975</td>\n",
              "      <td>0.290056</td>\n",
              "    </tr>\n",
              "    <tr>\n",
              "      <td>2000</td>\n",
              "      <td>0.521900</td>\n",
              "      <td>0.297662</td>\n",
              "      <td>0.276618</td>\n",
              "    </tr>\n",
              "    <tr>\n",
              "      <td>3000</td>\n",
              "      <td>0.462400</td>\n",
              "      <td>0.299377</td>\n",
              "      <td>0.276687</td>\n",
              "    </tr>\n",
              "    <tr>\n",
              "      <td>4000</td>\n",
              "      <td>0.409500</td>\n",
              "      <td>0.289382</td>\n",
              "      <td>0.273792</td>\n",
              "    </tr>\n",
              "    <tr>\n",
              "      <td>5000</td>\n",
              "      <td>0.358200</td>\n",
              "      <td>0.307106</td>\n",
              "      <td>0.273517</td>\n",
              "    </tr>\n",
              "    <tr>\n",
              "      <td>6000</td>\n",
              "      <td>0.353000</td>\n",
              "      <td>0.303311</td>\n",
              "      <td>0.270347</td>\n",
              "    </tr>\n",
              "    <tr>\n",
              "      <td>7000</td>\n",
              "      <td>0.319900</td>\n",
              "      <td>0.315421</td>\n",
              "      <td>0.272276</td>\n",
              "    </tr>\n",
              "  </tbody>\n",
              "</table><p>"
            ]
          },
          "metadata": {}
        },
        {
          "output_type": "stream",
          "name": "stderr",
          "text": [
            "The following columns in the evaluation set  don't have a corresponding argument in `Wav2Vec2ForCTC.forward` and have been ignored: input_length. If input_length are not expected by `Wav2Vec2ForCTC.forward`,  you can safely ignore this message.\n",
            "***** Running Evaluation *****\n",
            "  Num examples = 1680\n",
            "  Batch size = 8\n",
            "Saving model checkpoint to wav2vec2-base-timit-demo-google-colab/checkpoint-7000\n",
            "Configuration saved in wav2vec2-base-timit-demo-google-colab/checkpoint-7000/config.json\n",
            "Model weights saved in wav2vec2-base-timit-demo-google-colab/checkpoint-7000/pytorch_model.bin\n",
            "Feature extractor saved in wav2vec2-base-timit-demo-google-colab/checkpoint-7000/preprocessor_config.json\n",
            "Deleting older checkpoint [wav2vec2-base-timit-demo-google-colab/checkpoint-5000] due to args.save_total_limit\n"
          ]
        },
        {
          "output_type": "error",
          "ename": "KeyboardInterrupt",
          "evalue": "ignored",
          "traceback": [
            "\u001b[0;31m---------------------------------------------------------------------------\u001b[0m",
            "\u001b[0;31mKeyboardInterrupt\u001b[0m                         Traceback (most recent call last)",
            "\u001b[0;32m<ipython-input-25-573d7cf82541>\u001b[0m in \u001b[0;36m<module>\u001b[0;34m\u001b[0m\n\u001b[0;32m----> 1\u001b[0;31m \u001b[0mtrainer\u001b[0m\u001b[0;34m.\u001b[0m\u001b[0mtrain\u001b[0m\u001b[0;34m(\u001b[0m\u001b[0;34m'/content/drive/MyDrive/diploma/wer 0.51(0.27)'\u001b[0m\u001b[0;34m)\u001b[0m\u001b[0;34m\u001b[0m\u001b[0;34m\u001b[0m\u001b[0m\n\u001b[0m",
            "\u001b[0;32m/usr/local/lib/python3.8/dist-packages/transformers/trainer.py\u001b[0m in \u001b[0;36mtrain\u001b[0;34m(self, resume_from_checkpoint, trial, ignore_keys_for_eval, **kwargs)\u001b[0m\n\u001b[1;32m   1398\u001b[0m                         \u001b[0mtr_loss_step\u001b[0m \u001b[0;34m=\u001b[0m \u001b[0mself\u001b[0m\u001b[0;34m.\u001b[0m\u001b[0mtraining_step\u001b[0m\u001b[0;34m(\u001b[0m\u001b[0mmodel\u001b[0m\u001b[0;34m,\u001b[0m \u001b[0minputs\u001b[0m\u001b[0;34m)\u001b[0m\u001b[0;34m\u001b[0m\u001b[0;34m\u001b[0m\u001b[0m\n\u001b[1;32m   1399\u001b[0m                 \u001b[0;32melse\u001b[0m\u001b[0;34m:\u001b[0m\u001b[0;34m\u001b[0m\u001b[0;34m\u001b[0m\u001b[0m\n\u001b[0;32m-> 1400\u001b[0;31m                     \u001b[0mtr_loss_step\u001b[0m \u001b[0;34m=\u001b[0m \u001b[0mself\u001b[0m\u001b[0;34m.\u001b[0m\u001b[0mtraining_step\u001b[0m\u001b[0;34m(\u001b[0m\u001b[0mmodel\u001b[0m\u001b[0;34m,\u001b[0m \u001b[0minputs\u001b[0m\u001b[0;34m)\u001b[0m\u001b[0;34m\u001b[0m\u001b[0;34m\u001b[0m\u001b[0m\n\u001b[0m\u001b[1;32m   1401\u001b[0m \u001b[0;34m\u001b[0m\u001b[0m\n\u001b[1;32m   1402\u001b[0m                 if (\n",
            "\u001b[0;32m/usr/local/lib/python3.8/dist-packages/transformers/trainer.py\u001b[0m in \u001b[0;36mtraining_step\u001b[0;34m(self, model, inputs)\u001b[0m\n\u001b[1;32m   1992\u001b[0m \u001b[0;34m\u001b[0m\u001b[0m\n\u001b[1;32m   1993\u001b[0m         \u001b[0;32mif\u001b[0m \u001b[0mself\u001b[0m\u001b[0;34m.\u001b[0m\u001b[0mdo_grad_scaling\u001b[0m\u001b[0;34m:\u001b[0m\u001b[0;34m\u001b[0m\u001b[0;34m\u001b[0m\u001b[0m\n\u001b[0;32m-> 1994\u001b[0;31m             \u001b[0mself\u001b[0m\u001b[0;34m.\u001b[0m\u001b[0mscaler\u001b[0m\u001b[0;34m.\u001b[0m\u001b[0mscale\u001b[0m\u001b[0;34m(\u001b[0m\u001b[0mloss\u001b[0m\u001b[0;34m)\u001b[0m\u001b[0;34m.\u001b[0m\u001b[0mbackward\u001b[0m\u001b[0;34m(\u001b[0m\u001b[0;34m)\u001b[0m\u001b[0;34m\u001b[0m\u001b[0;34m\u001b[0m\u001b[0m\n\u001b[0m\u001b[1;32m   1995\u001b[0m         \u001b[0;32melif\u001b[0m \u001b[0mself\u001b[0m\u001b[0;34m.\u001b[0m\u001b[0muse_apex\u001b[0m\u001b[0;34m:\u001b[0m\u001b[0;34m\u001b[0m\u001b[0;34m\u001b[0m\u001b[0m\n\u001b[1;32m   1996\u001b[0m             \u001b[0;32mwith\u001b[0m \u001b[0mamp\u001b[0m\u001b[0;34m.\u001b[0m\u001b[0mscale_loss\u001b[0m\u001b[0;34m(\u001b[0m\u001b[0mloss\u001b[0m\u001b[0;34m,\u001b[0m \u001b[0mself\u001b[0m\u001b[0;34m.\u001b[0m\u001b[0moptimizer\u001b[0m\u001b[0;34m)\u001b[0m \u001b[0;32mas\u001b[0m \u001b[0mscaled_loss\u001b[0m\u001b[0;34m:\u001b[0m\u001b[0;34m\u001b[0m\u001b[0;34m\u001b[0m\u001b[0m\n",
            "\u001b[0;32m/usr/local/lib/python3.8/dist-packages/torch/_tensor.py\u001b[0m in \u001b[0;36mbackward\u001b[0;34m(self, gradient, retain_graph, create_graph, inputs)\u001b[0m\n\u001b[1;32m    485\u001b[0m                 \u001b[0minputs\u001b[0m\u001b[0;34m=\u001b[0m\u001b[0minputs\u001b[0m\u001b[0;34m,\u001b[0m\u001b[0;34m\u001b[0m\u001b[0;34m\u001b[0m\u001b[0m\n\u001b[1;32m    486\u001b[0m             )\n\u001b[0;32m--> 487\u001b[0;31m         torch.autograd.backward(\n\u001b[0m\u001b[1;32m    488\u001b[0m             \u001b[0mself\u001b[0m\u001b[0;34m,\u001b[0m \u001b[0mgradient\u001b[0m\u001b[0;34m,\u001b[0m \u001b[0mretain_graph\u001b[0m\u001b[0;34m,\u001b[0m \u001b[0mcreate_graph\u001b[0m\u001b[0;34m,\u001b[0m \u001b[0minputs\u001b[0m\u001b[0;34m=\u001b[0m\u001b[0minputs\u001b[0m\u001b[0;34m\u001b[0m\u001b[0;34m\u001b[0m\u001b[0m\n\u001b[1;32m    489\u001b[0m         )\n",
            "\u001b[0;32m/usr/local/lib/python3.8/dist-packages/torch/autograd/__init__.py\u001b[0m in \u001b[0;36mbackward\u001b[0;34m(tensors, grad_tensors, retain_graph, create_graph, grad_variables, inputs)\u001b[0m\n\u001b[1;32m    195\u001b[0m     \u001b[0;31m# some Python versions print out the first line of a multi-line function\u001b[0m\u001b[0;34m\u001b[0m\u001b[0;34m\u001b[0m\u001b[0;34m\u001b[0m\u001b[0m\n\u001b[1;32m    196\u001b[0m     \u001b[0;31m# calls in the traceback and some print out the last line\u001b[0m\u001b[0;34m\u001b[0m\u001b[0;34m\u001b[0m\u001b[0;34m\u001b[0m\u001b[0m\n\u001b[0;32m--> 197\u001b[0;31m     Variable._execution_engine.run_backward(  # Calls into the C++ engine to run the backward pass\n\u001b[0m\u001b[1;32m    198\u001b[0m         \u001b[0mtensors\u001b[0m\u001b[0;34m,\u001b[0m \u001b[0mgrad_tensors_\u001b[0m\u001b[0;34m,\u001b[0m \u001b[0mretain_graph\u001b[0m\u001b[0;34m,\u001b[0m \u001b[0mcreate_graph\u001b[0m\u001b[0;34m,\u001b[0m \u001b[0minputs\u001b[0m\u001b[0;34m,\u001b[0m\u001b[0;34m\u001b[0m\u001b[0;34m\u001b[0m\u001b[0m\n\u001b[1;32m    199\u001b[0m         allow_unreachable=True, accumulate_grad=True)  # Calls into the C++ engine to run the backward pass\n",
            "\u001b[0;31mKeyboardInterrupt\u001b[0m: "
          ]
        }
      ]
    },
    {
      "cell_type": "code",
      "source": [
        "trainer.save_model(\"path\")\n",
        "trainer.save_state()"
      ],
      "metadata": {
        "colab": {
          "base_uri": "https://localhost:8080/"
        },
        "id": "nTx7dYpxpd81",
        "outputId": "31382072-d900-4838-e40b-1b6222823e6d"
      },
      "execution_count": null,
      "outputs": [
        {
          "output_type": "stream",
          "name": "stderr",
          "text": [
            "Saving model checkpoint to path\n",
            "Configuration saved in path/config.json\n",
            "Model weights saved in path/pytorch_model.bin\n",
            "Feature extractor saved in path/preprocessor_config.json\n"
          ]
        }
      ]
    },
    {
      "cell_type": "code",
      "source": [
        "import torch\n",
        "torch.save(mod, '/content/drive/MyDrive/path')\n",
        "import torch\n",
        "m = torch.load('/content/drive/MyDrive/path')\n",
        "m.save_pretrained('/content/drive/MyDrive/wav2vec_eng_to_ipa_wer(0.195)')"
      ],
      "metadata": {
        "id": "ZE5mm9jId3bl"
      },
      "execution_count": null,
      "outputs": []
    },
    {
      "cell_type": "code",
      "source": [
        "\n",
        "import torchaudio\n",
        "import torch\n",
        "import numpy as np\n",
        "\n",
        "from transformers import Wav2Vec2ForCTC\n",
        "mod = Wav2Vec2ForCTC.from_pretrained('/content/drive/MyDrive/diploma/wav2vec_eng_to_ipa_wer(0.195)')\n",
        "mod.to(\"cuda\")"
      ],
      "metadata": {
        "id": "cZOlFcK6ba24"
      },
      "execution_count": null,
      "outputs": []
    },
    {
      "cell_type": "code",
      "source": [
        "from datasets import ClassLabel\n",
        "import random\n",
        "import pandas as pd\n",
        "from IPython.display import display, HTML\n",
        "\n",
        "def show_random_elements(dataset, num_examples=10):\n",
        "    assert num_examples <= len(dataset), \"Can't pick more elements than there are in the dataset.\"\n",
        "    picks = []\n",
        "    for _ in range(num_examples):\n",
        "        pick = random.randint(0, len(dataset)-1)\n",
        "        while pick in picks:\n",
        "            pick = random.randint(0, len(dataset)-1)\n",
        "        picks.append(pick)\n",
        "    \n",
        "    df = pd.DataFrame(dataset[picks])\n",
        "    display(HTML(df.to_html()))"
      ],
      "metadata": {
        "id": "FLMrFhGry-ny"
      },
      "execution_count": 16,
      "outputs": []
    },
    {
      "cell_type": "code",
      "source": [
        "def map_to_result(batch):\n",
        "  with torch.no_grad():\n",
        "    input_values = torch.tensor(batch[\"input_values\"], device=\"cuda\").unsqueeze(0)\n",
        "    logits = mod(input_values).logits\n",
        "\n",
        "  pred_ids = torch.argmax(logits, dim=-1)\n",
        "  batch[\"pred_str\"] = processor.batch_decode(pred_ids)[0]\n",
        "  batch[\"text\"] = processor.decode(batch[\"labels\"], group_tokens=False)\n",
        "  \n",
        "  return batch"
      ],
      "metadata": {
        "id": "EEOoiV50mnX4"
      },
      "execution_count": 17,
      "outputs": []
    },
    {
      "cell_type": "code",
      "source": [
        "results = dataset[\"test\"].map(map_to_result, remove_columns=dataset[\"test\"].column_names)"
      ],
      "metadata": {
        "colab": {
          "base_uri": "https://localhost:8080/",
          "height": 49,
          "referenced_widgets": [
            "af17d64b64d549168e57d4a88ad53fba",
            "b2cf9de146524633a248f3fc5a34c584",
            "75c469edefae46e68146143b97e05296",
            "395dec4341b649ebb6a9610aba75c7d2",
            "a1cd15ced1e94ceb912a017f0e73c9ca",
            "ffb4eca17dbf4b95b74e0d54e7b13fc1",
            "abdf059760924b41ad7f4e4adaa1a97b",
            "1eb1acb10edf4a0980e1db898fc5b7c6",
            "6019f9315120404e9013b2bf332c2676",
            "345b214a214c40fe90998cf1408e9029",
            "ccc1e9ae579842b4aff11f557d01a08a"
          ]
        },
        "id": "9Ahy0JhxmqY-",
        "outputId": "bbb706e9-9b11-47c4-c780-79dae4f712a6"
      },
      "execution_count": 19,
      "outputs": [
        {
          "output_type": "display_data",
          "data": {
            "text/plain": [
              "0ex [00:00, ?ex/s]"
            ],
            "application/vnd.jupyter.widget-view+json": {
              "version_major": 2,
              "version_minor": 0,
              "model_id": "af17d64b64d549168e57d4a88ad53fba"
            }
          },
          "metadata": {}
        }
      ]
    },
    {
      "cell_type": "code",
      "source": [
        "print(\"Test WER: {:.3f}\".format(wer_metric.compute(predictions=results[\"pred_str\"], references=results[\"text\"])))"
      ],
      "metadata": {
        "colab": {
          "base_uri": "https://localhost:8080/"
        },
        "id": "mPU6w5sSmsgG",
        "outputId": "aff0b054-3e4e-4b21-f78e-86719c9e5a6c"
      },
      "execution_count": 23,
      "outputs": [
        {
          "output_type": "stream",
          "name": "stdout",
          "text": [
            "Test WER: 0.195\n"
          ]
        }
      ]
    },
    {
      "cell_type": "code",
      "source": [
        "show_random_elements(results)"
      ],
      "metadata": {
        "colab": {
          "base_uri": "https://localhost:8080/",
          "height": 363
        },
        "id": "rqmorX_KnJOh",
        "outputId": "1c255cf8-27b3-48cb-ed10-52623e70999b"
      },
      "execution_count": 24,
      "outputs": [
        {
          "output_type": "display_data",
          "data": {
            "text/plain": [
              "<IPython.core.display.HTML object>"
            ],
            "text/html": [
              "<table border=\"1\" class=\"dataframe\">\n",
              "  <thead>\n",
              "    <tr style=\"text-align: right;\">\n",
              "      <th></th>\n",
              "      <th>pred_str</th>\n",
              "      <th>text</th>\n",
              "    </tr>\n",
              "  </thead>\n",
              "  <tbody>\n",
              "    <tr>\n",
              "      <th>0</th>\n",
              "      <td>ʃi hæd jʊr dɑrk sut ɪn ˈgrisi wɑʃ ˈwɔtər ɔl jɪr</td>\n",
              "      <td>ʃi hæd jʊr dɑrk sut ɪn ˈgrisi wɑʃ ˈwɔtər ɔl jɪr</td>\n",
              "    </tr>\n",
              "    <tr>\n",
              "      <th>1</th>\n",
              "      <td>əˈlaʊ ˈliˌweɪ hir bət ˈræʃənəˌlaɪz ɔl ˈɛrərz</td>\n",
              "      <td>əˈlaʊ ˈliˌweɪ hir bət ˈræʃənəˌlaɪz ɔl ˈɛrərz</td>\n",
              "    </tr>\n",
              "    <tr>\n",
              "      <th>2</th>\n",
              "      <td>dɪˈsɛmbər ənd ˈʤænjəˌwɛri ər nis məns tɪ ˈspɛnd ɪn maɪ ˈæmi</td>\n",
              "      <td>dɪˈsɛmbər ənd ˈʤænjuˌɛri ər nis mənθs tɪ spɛnd ɪn maɪˈæmi</td>\n",
              "    </tr>\n",
              "    <tr>\n",
              "      <th>3</th>\n",
              "      <td>ˈwɛðər pruf kəˈlɑʃəz ər ˈvɛri ˈjusfəl ɪn siˈædəl</td>\n",
              "      <td>ˈwɛðərˌpruf gəˈlɑʃɪz ər ˈvɛri ˈjusfəl ɪn siˈætəl</td>\n",
              "    </tr>\n",
              "    <tr>\n",
              "      <th>4</th>\n",
              "      <td>jəŋ ˈʧɪldrən ʃʊd əˈvɔɪd ɪkˈspoʊʒər tɪ kənˈteɪʤəs dɪˈzizɪz</td>\n",
              "      <td>jəŋ ˈʧɪldrən ʃʊd əˈvɔɪd ɪkˈspoʊʒər tɪ kənˈteɪʤəs dɪˈzizɪz</td>\n",
              "    </tr>\n",
              "    <tr>\n",
              "      <th>5</th>\n",
              "      <td>doʊnt æsk mi tɪ ˈkɛri ən ˈɔɪli ræg laɪk ðət</td>\n",
              "      <td>doʊnt æsk mi tɪ ˈkɛri ən ˈɔɪli ræg laɪk ðət</td>\n",
              "    </tr>\n",
              "    <tr>\n",
              "      <th>6</th>\n",
              "      <td>ə ˈwʊmən mɛt ə ˈfeɪməs ˈɔθər æt ə ˈlɪtərrɛri ti</td>\n",
              "      <td>ə ˈwʊmən mɛt ə ˈfeɪməs ˈɔθər æt ə ˈlɪtərˌɛri ti</td>\n",
              "    </tr>\n",
              "    <tr>\n",
              "      <th>7</th>\n",
              "      <td>waɪ jɛl ər ˈwəriər wɪθ ˈsɪli ˈaɪtəmz</td>\n",
              "      <td>waɪ jɛl ər ˈwəri ˈoʊvər ˈsɪli ˈaɪtəmz</td>\n",
              "    </tr>\n",
              "    <tr>\n",
              "      <th>8</th>\n",
              "      <td>ʃi ˈreɪdiˌeɪtɪd wɔrmθ ənd gʊd ˈfɛloʊˌʃɪp</td>\n",
              "      <td>ʃi ˈreɪdiˌeɪtɪd wɔrmθ ənd gʊd ˈfɛloʊˌʃɪp</td>\n",
              "    </tr>\n",
              "    <tr>\n",
              "      <th>9</th>\n",
              "      <td>hi wɪl əˈlaʊ ə rɛr laɪ</td>\n",
              "      <td>hi wɪl əˈlaʊ ə rɛr laɪ</td>\n",
              "    </tr>\n",
              "  </tbody>\n",
              "</table>"
            ]
          },
          "metadata": {}
        }
      ]
    },
    {
      "cell_type": "code",
      "source": [],
      "metadata": {
        "id": "4bCxqeSEnWe0"
      },
      "execution_count": null,
      "outputs": []
    }
  ]
}